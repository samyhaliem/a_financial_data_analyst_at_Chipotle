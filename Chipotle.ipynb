{
 "cells": [
  {
   "cell_type": "markdown",
   "id": "defe515b",
   "metadata": {},
   "source": [
    "### Scenario\n",
    "### You are a financial data analyst at Chipotle and your manager has tasked you with analyzing the most recent sales numbers. She has provided the following set of questions she would like answered"
   ]
  },
  {
   "cell_type": "code",
   "execution_count": 1,
   "id": "ea311ff7",
   "metadata": {},
   "outputs": [],
   "source": [
    "## Import the library\n",
    "import pandas as pd\n",
    "import numpy  as np\n",
    "import matplotlib.pyplot as   plt\n",
    "import seaborn as sns\n",
    "import plotly.express as px\n",
    "from ydata_profiling import ProfileReport\n",
    "%matplotlib inline\n",
    "import warnings\n",
    "warnings.filterwarnings(\"ignore\")\n",
    "plt.style.use('fivethirtyeight')\n",
    "sns.set()\n",
    "\n",
    "pd.options.display.float_format = '{:,.2f}'.format\n",
    "pd.options.display.max_rows = None\n",
    "pd.options.display.max_columns = None"
   ]
  },
  {
   "cell_type": "code",
   "execution_count": 2,
   "id": "c3364b55",
   "metadata": {},
   "outputs": [],
   "source": [
    "url = 'https://raw.githubusercontent.com/justmarkham/DAT8/master/data/chipotle.tsv'\n",
    "chipo = pd.read_csv(url, sep = '\\t')"
   ]
  },
  {
   "cell_type": "code",
   "execution_count": 11,
   "id": "6f58053f",
   "metadata": {},
   "outputs": [
    {
     "data": {
      "text/html": [
       "<div>\n",
       "<style scoped>\n",
       "    .dataframe tbody tr th:only-of-type {\n",
       "        vertical-align: middle;\n",
       "    }\n",
       "\n",
       "    .dataframe tbody tr th {\n",
       "        vertical-align: top;\n",
       "    }\n",
       "\n",
       "    .dataframe thead th {\n",
       "        text-align: right;\n",
       "    }\n",
       "</style>\n",
       "<table border=\"1\" class=\"dataframe\">\n",
       "  <thead>\n",
       "    <tr style=\"text-align: right;\">\n",
       "      <th></th>\n",
       "      <th>order_id</th>\n",
       "      <th>quantity</th>\n",
       "      <th>item_name</th>\n",
       "      <th>choice_description</th>\n",
       "      <th>item_price</th>\n",
       "    </tr>\n",
       "  </thead>\n",
       "  <tbody>\n",
       "    <tr>\n",
       "      <th>3081</th>\n",
       "      <td>1228</td>\n",
       "      <td>1</td>\n",
       "      <td>Steak Bowl</td>\n",
       "      <td>[Roasted Chili Corn Salsa, [Rice, Black Beans,...</td>\n",
       "      <td>$11.75</td>\n",
       "    </tr>\n",
       "    <tr>\n",
       "      <th>4470</th>\n",
       "      <td>1781</td>\n",
       "      <td>1</td>\n",
       "      <td>Steak Bowl</td>\n",
       "      <td>[Fresh Tomato Salsa, [Rice, Black Beans, Pinto...</td>\n",
       "      <td>$11.75</td>\n",
       "    </tr>\n",
       "    <tr>\n",
       "      <th>175</th>\n",
       "      <td>78</td>\n",
       "      <td>1</td>\n",
       "      <td>Steak Soft Tacos</td>\n",
       "      <td>[Roasted Chili Corn Salsa (Medium), Lettuce]</td>\n",
       "      <td>$8.99</td>\n",
       "    </tr>\n",
       "    <tr>\n",
       "      <th>3087</th>\n",
       "      <td>1230</td>\n",
       "      <td>1</td>\n",
       "      <td>Chicken Bowl</td>\n",
       "      <td>[[Roasted Chili Corn Salsa (Medium), Fresh Tom...</td>\n",
       "      <td>$8.49</td>\n",
       "    </tr>\n",
       "    <tr>\n",
       "      <th>4442</th>\n",
       "      <td>1770</td>\n",
       "      <td>1</td>\n",
       "      <td>Bottled Water</td>\n",
       "      <td>NaN</td>\n",
       "      <td>$1.50</td>\n",
       "    </tr>\n",
       "    <tr>\n",
       "      <th>3789</th>\n",
       "      <td>1517</td>\n",
       "      <td>1</td>\n",
       "      <td>6 Pack Soft Drink</td>\n",
       "      <td>[Diet Coke]</td>\n",
       "      <td>$6.49</td>\n",
       "    </tr>\n",
       "    <tr>\n",
       "      <th>1535</th>\n",
       "      <td>624</td>\n",
       "      <td>1</td>\n",
       "      <td>Chips and Guacamole</td>\n",
       "      <td>NaN</td>\n",
       "      <td>$3.99</td>\n",
       "    </tr>\n",
       "    <tr>\n",
       "      <th>107</th>\n",
       "      <td>47</td>\n",
       "      <td>1</td>\n",
       "      <td>Canned Soda</td>\n",
       "      <td>[Dr. Pepper]</td>\n",
       "      <td>$1.09</td>\n",
       "    </tr>\n",
       "    <tr>\n",
       "      <th>1866</th>\n",
       "      <td>756</td>\n",
       "      <td>1</td>\n",
       "      <td>Barbacoa Crispy Tacos</td>\n",
       "      <td>[Fresh Tomato Salsa, [Rice, Cheese, Sour Cream]]</td>\n",
       "      <td>$9.25</td>\n",
       "    </tr>\n",
       "    <tr>\n",
       "      <th>3032</th>\n",
       "      <td>1206</td>\n",
       "      <td>1</td>\n",
       "      <td>Chips and Guacamole</td>\n",
       "      <td>NaN</td>\n",
       "      <td>$4.45</td>\n",
       "    </tr>\n",
       "  </tbody>\n",
       "</table>\n",
       "</div>"
      ],
      "text/plain": [
       "      order_id  quantity              item_name  \\\n",
       "3081      1228         1             Steak Bowl   \n",
       "4470      1781         1             Steak Bowl   \n",
       "175         78         1       Steak Soft Tacos   \n",
       "3087      1230         1           Chicken Bowl   \n",
       "4442      1770         1          Bottled Water   \n",
       "3789      1517         1      6 Pack Soft Drink   \n",
       "1535       624         1    Chips and Guacamole   \n",
       "107         47         1            Canned Soda   \n",
       "1866       756         1  Barbacoa Crispy Tacos   \n",
       "3032      1206         1    Chips and Guacamole   \n",
       "\n",
       "                                     choice_description item_price  \n",
       "3081  [Roasted Chili Corn Salsa, [Rice, Black Beans,...    $11.75   \n",
       "4470  [Fresh Tomato Salsa, [Rice, Black Beans, Pinto...    $11.75   \n",
       "175        [Roasted Chili Corn Salsa (Medium), Lettuce]     $8.99   \n",
       "3087  [[Roasted Chili Corn Salsa (Medium), Fresh Tom...     $8.49   \n",
       "4442                                                NaN     $1.50   \n",
       "3789                                        [Diet Coke]     $6.49   \n",
       "1535                                                NaN     $3.99   \n",
       "107                                        [Dr. Pepper]     $1.09   \n",
       "1866   [Fresh Tomato Salsa, [Rice, Cheese, Sour Cream]]     $9.25   \n",
       "3032                                                NaN     $4.45   "
      ]
     },
     "execution_count": 11,
     "metadata": {},
     "output_type": "execute_result"
    }
   ],
   "source": [
    "chipo.sample(10)"
   ]
  },
  {
   "cell_type": "code",
   "execution_count": 5,
   "id": "1bb9786d",
   "metadata": {},
   "outputs": [
    {
     "name": "stdout",
     "output_type": "stream",
     "text": [
      "<class 'pandas.core.frame.DataFrame'>\n",
      "RangeIndex: 4622 entries, 0 to 4621\n",
      "Data columns (total 5 columns):\n",
      " #   Column              Non-Null Count  Dtype \n",
      "---  ------              --------------  ----- \n",
      " 0   order_id            4622 non-null   int64 \n",
      " 1   quantity            4622 non-null   int64 \n",
      " 2   item_name           4622 non-null   object\n",
      " 3   choice_description  3376 non-null   object\n",
      " 4   item_price          4622 non-null   object\n",
      "dtypes: int64(2), object(3)\n",
      "memory usage: 180.7+ KB\n"
     ]
    }
   ],
   "source": [
    "chipo.info()"
   ]
  },
  {
   "cell_type": "code",
   "execution_count": 12,
   "id": "2ca8ebc5",
   "metadata": {},
   "outputs": [
    {
     "data": {
      "text/plain": [
       "59"
      ]
     },
     "execution_count": 12,
     "metadata": {},
     "output_type": "execute_result"
    }
   ],
   "source": [
    "chipo.duplicated().sum()"
   ]
  },
  {
   "cell_type": "code",
   "execution_count": 17,
   "id": "cc6c3f5a",
   "metadata": {
    "scrolled": true
   },
   "outputs": [],
   "source": [
    "## remove duplicated \n",
    "chipo.drop_duplicates(inplace=True)"
   ]
  },
  {
   "cell_type": "code",
   "execution_count": 18,
   "id": "aeeada05",
   "metadata": {},
   "outputs": [
    {
     "data": {
      "text/plain": [
       "0"
      ]
     },
     "execution_count": 18,
     "metadata": {},
     "output_type": "execute_result"
    }
   ],
   "source": [
    "chipo.duplicated().sum()"
   ]
  },
  {
   "cell_type": "code",
   "execution_count": 19,
   "id": "1cbe719d",
   "metadata": {},
   "outputs": [
    {
     "data": {
      "text/plain": [
       "order_id                 0\n",
       "quantity                 0\n",
       "item_name                0\n",
       "choice_description    1228\n",
       "item_price               0\n",
       "dtype: int64"
      ]
     },
     "execution_count": 19,
     "metadata": {},
     "output_type": "execute_result"
    }
   ],
   "source": [
    "chipo.isnull().sum()"
   ]
  },
  {
   "cell_type": "code",
   "execution_count": 20,
   "id": "2ab0e8f5",
   "metadata": {},
   "outputs": [
    {
     "data": {
      "text/html": [
       "<div>\n",
       "<style scoped>\n",
       "    .dataframe tbody tr th:only-of-type {\n",
       "        vertical-align: middle;\n",
       "    }\n",
       "\n",
       "    .dataframe tbody tr th {\n",
       "        vertical-align: top;\n",
       "    }\n",
       "\n",
       "    .dataframe thead th {\n",
       "        text-align: right;\n",
       "    }\n",
       "</style>\n",
       "<table border=\"1\" class=\"dataframe\">\n",
       "  <thead>\n",
       "    <tr style=\"text-align: right;\">\n",
       "      <th></th>\n",
       "      <th>order_id</th>\n",
       "      <th>quantity</th>\n",
       "      <th>item_name</th>\n",
       "      <th>choice_description</th>\n",
       "      <th>item_price</th>\n",
       "    </tr>\n",
       "  </thead>\n",
       "  <tbody>\n",
       "    <tr>\n",
       "      <th>2270</th>\n",
       "      <td>913</td>\n",
       "      <td>1</td>\n",
       "      <td>Carnitas Burrito</td>\n",
       "      <td>[Fresh Tomato Salsa, [Rice, Pinto Beans, Cheese]]</td>\n",
       "      <td>$9.25</td>\n",
       "    </tr>\n",
       "    <tr>\n",
       "      <th>2697</th>\n",
       "      <td>1071</td>\n",
       "      <td>1</td>\n",
       "      <td>Carnitas Burrito</td>\n",
       "      <td>[Fresh Tomato Salsa, [Fajita Vegetables, Rice,...</td>\n",
       "      <td>$9.25</td>\n",
       "    </tr>\n",
       "    <tr>\n",
       "      <th>1353</th>\n",
       "      <td>552</td>\n",
       "      <td>1</td>\n",
       "      <td>Steak Soft Tacos</td>\n",
       "      <td>[Tomatillo Green Chili Salsa, [Fajita Vegetabl...</td>\n",
       "      <td>$11.75</td>\n",
       "    </tr>\n",
       "    <tr>\n",
       "      <th>2249</th>\n",
       "      <td>907</td>\n",
       "      <td>1</td>\n",
       "      <td>Chicken Soft Tacos</td>\n",
       "      <td>[Roasted Chili Corn Salsa, [Rice, Cheese]]</td>\n",
       "      <td>$8.75</td>\n",
       "    </tr>\n",
       "    <tr>\n",
       "      <th>4265</th>\n",
       "      <td>1701</td>\n",
       "      <td>1</td>\n",
       "      <td>Veggie Bowl</td>\n",
       "      <td>[Fresh Tomato Salsa, [Rice, Black Beans, Chees...</td>\n",
       "      <td>$11.25</td>\n",
       "    </tr>\n",
       "    <tr>\n",
       "      <th>3464</th>\n",
       "      <td>1392</td>\n",
       "      <td>1</td>\n",
       "      <td>Chicken Bowl</td>\n",
       "      <td>[Fresh Tomato Salsa, [Rice, Cheese, Guacamole,...</td>\n",
       "      <td>$11.25</td>\n",
       "    </tr>\n",
       "    <tr>\n",
       "      <th>3784</th>\n",
       "      <td>1514</td>\n",
       "      <td>1</td>\n",
       "      <td>Canned Soft Drink</td>\n",
       "      <td>[Diet Coke]</td>\n",
       "      <td>$1.25</td>\n",
       "    </tr>\n",
       "    <tr>\n",
       "      <th>1870</th>\n",
       "      <td>758</td>\n",
       "      <td>1</td>\n",
       "      <td>Chips</td>\n",
       "      <td>NaN</td>\n",
       "      <td>$2.15</td>\n",
       "    </tr>\n",
       "    <tr>\n",
       "      <th>4043</th>\n",
       "      <td>1618</td>\n",
       "      <td>1</td>\n",
       "      <td>Canned Soft Drink</td>\n",
       "      <td>[Diet Coke]</td>\n",
       "      <td>$1.25</td>\n",
       "    </tr>\n",
       "    <tr>\n",
       "      <th>4307</th>\n",
       "      <td>1718</td>\n",
       "      <td>2</td>\n",
       "      <td>Steak Bowl</td>\n",
       "      <td>[Fresh Tomato Salsa, [Fajita Vegetables, Sour ...</td>\n",
       "      <td>$23.50</td>\n",
       "    </tr>\n",
       "  </tbody>\n",
       "</table>\n",
       "</div>"
      ],
      "text/plain": [
       "      order_id  quantity           item_name  \\\n",
       "2270       913         1    Carnitas Burrito   \n",
       "2697      1071         1    Carnitas Burrito   \n",
       "1353       552         1    Steak Soft Tacos   \n",
       "2249       907         1  Chicken Soft Tacos   \n",
       "4265      1701         1         Veggie Bowl   \n",
       "3464      1392         1        Chicken Bowl   \n",
       "3784      1514         1   Canned Soft Drink   \n",
       "1870       758         1               Chips   \n",
       "4043      1618         1   Canned Soft Drink   \n",
       "4307      1718         2          Steak Bowl   \n",
       "\n",
       "                                     choice_description item_price  \n",
       "2270  [Fresh Tomato Salsa, [Rice, Pinto Beans, Cheese]]     $9.25   \n",
       "2697  [Fresh Tomato Salsa, [Fajita Vegetables, Rice,...     $9.25   \n",
       "1353  [Tomatillo Green Chili Salsa, [Fajita Vegetabl...    $11.75   \n",
       "2249         [Roasted Chili Corn Salsa, [Rice, Cheese]]     $8.75   \n",
       "4265  [Fresh Tomato Salsa, [Rice, Black Beans, Chees...    $11.25   \n",
       "3464  [Fresh Tomato Salsa, [Rice, Cheese, Guacamole,...    $11.25   \n",
       "3784                                        [Diet Coke]     $1.25   \n",
       "1870                                                NaN     $2.15   \n",
       "4043                                        [Diet Coke]     $1.25   \n",
       "4307  [Fresh Tomato Salsa, [Fajita Vegetables, Sour ...    $23.50   "
      ]
     },
     "execution_count": 20,
     "metadata": {},
     "output_type": "execute_result"
    }
   ],
   "source": [
    "chipo.sample(10)"
   ]
  },
  {
   "cell_type": "code",
   "execution_count": 21,
   "id": "7b564773",
   "metadata": {},
   "outputs": [],
   "source": [
    "# remove $ from item_price\n",
    "chipo.item_price=chipo.item_price.str.strip(\"$\")"
   ]
  },
  {
   "cell_type": "code",
   "execution_count": 23,
   "id": "66300d02",
   "metadata": {},
   "outputs": [
    {
     "name": "stdout",
     "output_type": "stream",
     "text": [
      "<class 'pandas.core.frame.DataFrame'>\n",
      "Int64Index: 4563 entries, 0 to 4621\n",
      "Data columns (total 5 columns):\n",
      " #   Column              Non-Null Count  Dtype \n",
      "---  ------              --------------  ----- \n",
      " 0   order_id            4563 non-null   int64 \n",
      " 1   quantity            4563 non-null   int64 \n",
      " 2   item_name           4563 non-null   object\n",
      " 3   choice_description  3335 non-null   object\n",
      " 4   item_price          4563 non-null   object\n",
      "dtypes: int64(2), object(3)\n",
      "memory usage: 213.9+ KB\n"
     ]
    }
   ],
   "source": [
    "chipo.info()"
   ]
  },
  {
   "cell_type": "code",
   "execution_count": 24,
   "id": "8862d684",
   "metadata": {},
   "outputs": [],
   "source": [
    "## Turn the item price into a float\n",
    "# change type of item_price\n",
    "\n",
    "chipo['item_price']=chipo['item_price'].astype(float)"
   ]
  },
  {
   "cell_type": "code",
   "execution_count": 25,
   "id": "dfd805e5",
   "metadata": {},
   "outputs": [
    {
     "name": "stdout",
     "output_type": "stream",
     "text": [
      "<class 'pandas.core.frame.DataFrame'>\n",
      "Int64Index: 4563 entries, 0 to 4621\n",
      "Data columns (total 5 columns):\n",
      " #   Column              Non-Null Count  Dtype  \n",
      "---  ------              --------------  -----  \n",
      " 0   order_id            4563 non-null   int64  \n",
      " 1   quantity            4563 non-null   int64  \n",
      " 2   item_name           4563 non-null   object \n",
      " 3   choice_description  3335 non-null   object \n",
      " 4   item_price          4563 non-null   float64\n",
      "dtypes: float64(1), int64(2), object(2)\n",
      "memory usage: 213.9+ KB\n"
     ]
    }
   ],
   "source": [
    "chipo.info()"
   ]
  },
  {
   "cell_type": "code",
   "execution_count": null,
   "id": "a5a2aa81",
   "metadata": {},
   "outputs": [],
   "source": []
  },
  {
   "cell_type": "code",
   "execution_count": 36,
   "id": "e9916508",
   "metadata": {},
   "outputs": [],
   "source": [
    "## Univariate Analyses "
   ]
  },
  {
   "cell_type": "code",
   "execution_count": 44,
   "id": "f1af6735",
   "metadata": {},
   "outputs": [
    {
     "data": {
      "text/plain": [
       "Index(['order_id', 'quantity', 'item_name', 'choice_description',\n",
       "       'item_price'],\n",
       "      dtype='object')"
      ]
     },
     "execution_count": 44,
     "metadata": {},
     "output_type": "execute_result"
    }
   ],
   "source": [
    "chipo.columns"
   ]
  },
  {
   "cell_type": "code",
   "execution_count": null,
   "id": "64989d65",
   "metadata": {},
   "outputs": [],
   "source": [
    "## Which was the most-ordered item?"
   ]
  },
  {
   "cell_type": "code",
   "execution_count": 42,
   "id": "221c5ed8",
   "metadata": {},
   "outputs": [
    {
     "data": {
      "text/plain": [
       "Chicken Bowl                             717\n",
       "Chicken Burrito                          546\n",
       "Chips and Guacamole                      474\n",
       "Steak Burrito                            365\n",
       "Canned Soft Drink                        290\n",
       "Steak Bowl                               210\n",
       "Chips                                    208\n",
       "Bottled Water                            155\n",
       "Chicken Soft Tacos                       111\n",
       "Chips and Fresh Tomato Salsa             110\n",
       "Chicken Salad Bowl                       110\n",
       "Canned Soda                              102\n",
       "Side of Chips                            101\n",
       "Veggie Burrito                            95\n",
       "Barbacoa Burrito                          90\n",
       "Veggie Bowl                               85\n",
       "Carnitas Bowl                             68\n",
       "Barbacoa Bowl                             65\n",
       "Carnitas Burrito                          59\n",
       "Steak Soft Tacos                          55\n",
       "6 Pack Soft Drink                         54\n",
       "Chicken Crispy Tacos                      47\n",
       "Chips and Tomatillo Red Chili Salsa       46\n",
       "Chips and Tomatillo Green Chili Salsa     43\n",
       "Carnitas Soft Tacos                       40\n",
       "Steak Crispy Tacos                        35\n",
       "Chips and Tomatillo-Green Chili Salsa     31\n",
       "Steak Salad Bowl                          29\n",
       "Nantucket Nectar                          27\n",
       "Barbacoa Soft Tacos                       25\n",
       "Chips and Roasted Chili Corn Salsa        22\n",
       "Izze                                      19\n",
       "Chips and Tomatillo-Red Chili Salsa       19\n",
       "Veggie Salad Bowl                         18\n",
       "Chips and Roasted Chili-Corn Salsa        18\n",
       "Barbacoa Crispy Tacos                     11\n",
       "Chicken Salad                              9\n",
       "Barbacoa Salad Bowl                        9\n",
       "Veggie Soft Tacos                          7\n",
       "Carnitas Crispy Tacos                      7\n",
       "Veggie Salad                               6\n",
       "Carnitas Salad Bowl                        6\n",
       "Burrito                                    6\n",
       "Steak Salad                                4\n",
       "Crispy Tacos                               2\n",
       "Salad                                      2\n",
       "Bowl                                       2\n",
       "Chips and Mild Fresh Tomato Salsa          1\n",
       "Veggie Crispy Tacos                        1\n",
       "Carnitas Salad                             1\n",
       "Name: item_name, dtype: int64"
      ]
     },
     "execution_count": 42,
     "metadata": {},
     "output_type": "execute_result"
    }
   ],
   "source": [
    "chipo.item_name.value_counts()"
   ]
  },
  {
   "cell_type": "code",
   "execution_count": 46,
   "id": "319566b5",
   "metadata": {},
   "outputs": [
    {
     "data": {
      "application/vnd.plotly.v1+json": {
       "config": {
        "plotlyServerURL": "https://plot.ly"
       },
       "data": [
        {
         "alignmentgroup": "True",
         "hovertemplate": "variable=item_name<br>index=%{x}<br>value=%{y}<extra></extra>",
         "legendgroup": "item_name",
         "marker": {
          "color": "#636efa",
          "pattern": {
           "shape": ""
          }
         },
         "name": "item_name",
         "offsetgroup": "item_name",
         "orientation": "v",
         "showlegend": true,
         "textposition": "outside",
         "texttemplate": "%{y}",
         "type": "bar",
         "x": [
          "Chicken Bowl",
          "Chicken Burrito",
          "Chips and Guacamole",
          "Steak Burrito",
          "Canned Soft Drink",
          "Steak Bowl",
          "Chips",
          "Bottled Water",
          "Chicken Soft Tacos",
          "Chips and Fresh Tomato Salsa",
          "Chicken Salad Bowl",
          "Canned Soda",
          "Side of Chips",
          "Veggie Burrito",
          "Barbacoa Burrito",
          "Veggie Bowl",
          "Carnitas Bowl",
          "Barbacoa Bowl",
          "Carnitas Burrito",
          "Steak Soft Tacos",
          "6 Pack Soft Drink",
          "Chicken Crispy Tacos",
          "Chips and Tomatillo Red Chili Salsa",
          "Chips and Tomatillo Green Chili Salsa",
          "Carnitas Soft Tacos",
          "Steak Crispy Tacos",
          "Chips and Tomatillo-Green Chili Salsa",
          "Steak Salad Bowl",
          "Nantucket Nectar",
          "Barbacoa Soft Tacos",
          "Chips and Roasted Chili Corn Salsa",
          "Izze",
          "Chips and Tomatillo-Red Chili Salsa",
          "Veggie Salad Bowl",
          "Chips and Roasted Chili-Corn Salsa",
          "Barbacoa Crispy Tacos",
          "Chicken Salad",
          "Barbacoa Salad Bowl",
          "Veggie Soft Tacos",
          "Carnitas Crispy Tacos",
          "Veggie Salad",
          "Carnitas Salad Bowl",
          "Burrito",
          "Steak Salad",
          "Crispy Tacos",
          "Salad",
          "Bowl",
          "Chips and Mild Fresh Tomato Salsa",
          "Veggie Crispy Tacos",
          "Carnitas Salad"
         ],
         "xaxis": "x",
         "y": [
          717,
          546,
          474,
          365,
          290,
          210,
          208,
          155,
          111,
          110,
          110,
          102,
          101,
          95,
          90,
          85,
          68,
          65,
          59,
          55,
          54,
          47,
          46,
          43,
          40,
          35,
          31,
          29,
          27,
          25,
          22,
          19,
          19,
          18,
          18,
          11,
          9,
          9,
          7,
          7,
          6,
          6,
          6,
          4,
          2,
          2,
          2,
          1,
          1,
          1
         ],
         "yaxis": "y"
        }
       ],
       "layout": {
        "barmode": "relative",
        "legend": {
         "title": {
          "text": "variable"
         },
         "tracegroupgap": 0
        },
        "margin": {
         "t": 60
        },
        "template": {
         "data": {
          "bar": [
           {
            "error_x": {
             "color": "#2a3f5f"
            },
            "error_y": {
             "color": "#2a3f5f"
            },
            "marker": {
             "line": {
              "color": "#E5ECF6",
              "width": 0.5
             },
             "pattern": {
              "fillmode": "overlay",
              "size": 10,
              "solidity": 0.2
             }
            },
            "type": "bar"
           }
          ],
          "barpolar": [
           {
            "marker": {
             "line": {
              "color": "#E5ECF6",
              "width": 0.5
             },
             "pattern": {
              "fillmode": "overlay",
              "size": 10,
              "solidity": 0.2
             }
            },
            "type": "barpolar"
           }
          ],
          "carpet": [
           {
            "aaxis": {
             "endlinecolor": "#2a3f5f",
             "gridcolor": "white",
             "linecolor": "white",
             "minorgridcolor": "white",
             "startlinecolor": "#2a3f5f"
            },
            "baxis": {
             "endlinecolor": "#2a3f5f",
             "gridcolor": "white",
             "linecolor": "white",
             "minorgridcolor": "white",
             "startlinecolor": "#2a3f5f"
            },
            "type": "carpet"
           }
          ],
          "choropleth": [
           {
            "colorbar": {
             "outlinewidth": 0,
             "ticks": ""
            },
            "type": "choropleth"
           }
          ],
          "contour": [
           {
            "colorbar": {
             "outlinewidth": 0,
             "ticks": ""
            },
            "colorscale": [
             [
              0,
              "#0d0887"
             ],
             [
              0.1111111111111111,
              "#46039f"
             ],
             [
              0.2222222222222222,
              "#7201a8"
             ],
             [
              0.3333333333333333,
              "#9c179e"
             ],
             [
              0.4444444444444444,
              "#bd3786"
             ],
             [
              0.5555555555555556,
              "#d8576b"
             ],
             [
              0.6666666666666666,
              "#ed7953"
             ],
             [
              0.7777777777777778,
              "#fb9f3a"
             ],
             [
              0.8888888888888888,
              "#fdca26"
             ],
             [
              1,
              "#f0f921"
             ]
            ],
            "type": "contour"
           }
          ],
          "contourcarpet": [
           {
            "colorbar": {
             "outlinewidth": 0,
             "ticks": ""
            },
            "type": "contourcarpet"
           }
          ],
          "heatmap": [
           {
            "colorbar": {
             "outlinewidth": 0,
             "ticks": ""
            },
            "colorscale": [
             [
              0,
              "#0d0887"
             ],
             [
              0.1111111111111111,
              "#46039f"
             ],
             [
              0.2222222222222222,
              "#7201a8"
             ],
             [
              0.3333333333333333,
              "#9c179e"
             ],
             [
              0.4444444444444444,
              "#bd3786"
             ],
             [
              0.5555555555555556,
              "#d8576b"
             ],
             [
              0.6666666666666666,
              "#ed7953"
             ],
             [
              0.7777777777777778,
              "#fb9f3a"
             ],
             [
              0.8888888888888888,
              "#fdca26"
             ],
             [
              1,
              "#f0f921"
             ]
            ],
            "type": "heatmap"
           }
          ],
          "heatmapgl": [
           {
            "colorbar": {
             "outlinewidth": 0,
             "ticks": ""
            },
            "colorscale": [
             [
              0,
              "#0d0887"
             ],
             [
              0.1111111111111111,
              "#46039f"
             ],
             [
              0.2222222222222222,
              "#7201a8"
             ],
             [
              0.3333333333333333,
              "#9c179e"
             ],
             [
              0.4444444444444444,
              "#bd3786"
             ],
             [
              0.5555555555555556,
              "#d8576b"
             ],
             [
              0.6666666666666666,
              "#ed7953"
             ],
             [
              0.7777777777777778,
              "#fb9f3a"
             ],
             [
              0.8888888888888888,
              "#fdca26"
             ],
             [
              1,
              "#f0f921"
             ]
            ],
            "type": "heatmapgl"
           }
          ],
          "histogram": [
           {
            "marker": {
             "pattern": {
              "fillmode": "overlay",
              "size": 10,
              "solidity": 0.2
             }
            },
            "type": "histogram"
           }
          ],
          "histogram2d": [
           {
            "colorbar": {
             "outlinewidth": 0,
             "ticks": ""
            },
            "colorscale": [
             [
              0,
              "#0d0887"
             ],
             [
              0.1111111111111111,
              "#46039f"
             ],
             [
              0.2222222222222222,
              "#7201a8"
             ],
             [
              0.3333333333333333,
              "#9c179e"
             ],
             [
              0.4444444444444444,
              "#bd3786"
             ],
             [
              0.5555555555555556,
              "#d8576b"
             ],
             [
              0.6666666666666666,
              "#ed7953"
             ],
             [
              0.7777777777777778,
              "#fb9f3a"
             ],
             [
              0.8888888888888888,
              "#fdca26"
             ],
             [
              1,
              "#f0f921"
             ]
            ],
            "type": "histogram2d"
           }
          ],
          "histogram2dcontour": [
           {
            "colorbar": {
             "outlinewidth": 0,
             "ticks": ""
            },
            "colorscale": [
             [
              0,
              "#0d0887"
             ],
             [
              0.1111111111111111,
              "#46039f"
             ],
             [
              0.2222222222222222,
              "#7201a8"
             ],
             [
              0.3333333333333333,
              "#9c179e"
             ],
             [
              0.4444444444444444,
              "#bd3786"
             ],
             [
              0.5555555555555556,
              "#d8576b"
             ],
             [
              0.6666666666666666,
              "#ed7953"
             ],
             [
              0.7777777777777778,
              "#fb9f3a"
             ],
             [
              0.8888888888888888,
              "#fdca26"
             ],
             [
              1,
              "#f0f921"
             ]
            ],
            "type": "histogram2dcontour"
           }
          ],
          "mesh3d": [
           {
            "colorbar": {
             "outlinewidth": 0,
             "ticks": ""
            },
            "type": "mesh3d"
           }
          ],
          "parcoords": [
           {
            "line": {
             "colorbar": {
              "outlinewidth": 0,
              "ticks": ""
             }
            },
            "type": "parcoords"
           }
          ],
          "pie": [
           {
            "automargin": true,
            "type": "pie"
           }
          ],
          "scatter": [
           {
            "fillpattern": {
             "fillmode": "overlay",
             "size": 10,
             "solidity": 0.2
            },
            "type": "scatter"
           }
          ],
          "scatter3d": [
           {
            "line": {
             "colorbar": {
              "outlinewidth": 0,
              "ticks": ""
             }
            },
            "marker": {
             "colorbar": {
              "outlinewidth": 0,
              "ticks": ""
             }
            },
            "type": "scatter3d"
           }
          ],
          "scattercarpet": [
           {
            "marker": {
             "colorbar": {
              "outlinewidth": 0,
              "ticks": ""
             }
            },
            "type": "scattercarpet"
           }
          ],
          "scattergeo": [
           {
            "marker": {
             "colorbar": {
              "outlinewidth": 0,
              "ticks": ""
             }
            },
            "type": "scattergeo"
           }
          ],
          "scattergl": [
           {
            "marker": {
             "colorbar": {
              "outlinewidth": 0,
              "ticks": ""
             }
            },
            "type": "scattergl"
           }
          ],
          "scattermapbox": [
           {
            "marker": {
             "colorbar": {
              "outlinewidth": 0,
              "ticks": ""
             }
            },
            "type": "scattermapbox"
           }
          ],
          "scatterpolar": [
           {
            "marker": {
             "colorbar": {
              "outlinewidth": 0,
              "ticks": ""
             }
            },
            "type": "scatterpolar"
           }
          ],
          "scatterpolargl": [
           {
            "marker": {
             "colorbar": {
              "outlinewidth": 0,
              "ticks": ""
             }
            },
            "type": "scatterpolargl"
           }
          ],
          "scatterternary": [
           {
            "marker": {
             "colorbar": {
              "outlinewidth": 0,
              "ticks": ""
             }
            },
            "type": "scatterternary"
           }
          ],
          "surface": [
           {
            "colorbar": {
             "outlinewidth": 0,
             "ticks": ""
            },
            "colorscale": [
             [
              0,
              "#0d0887"
             ],
             [
              0.1111111111111111,
              "#46039f"
             ],
             [
              0.2222222222222222,
              "#7201a8"
             ],
             [
              0.3333333333333333,
              "#9c179e"
             ],
             [
              0.4444444444444444,
              "#bd3786"
             ],
             [
              0.5555555555555556,
              "#d8576b"
             ],
             [
              0.6666666666666666,
              "#ed7953"
             ],
             [
              0.7777777777777778,
              "#fb9f3a"
             ],
             [
              0.8888888888888888,
              "#fdca26"
             ],
             [
              1,
              "#f0f921"
             ]
            ],
            "type": "surface"
           }
          ],
          "table": [
           {
            "cells": {
             "fill": {
              "color": "#EBF0F8"
             },
             "line": {
              "color": "white"
             }
            },
            "header": {
             "fill": {
              "color": "#C8D4E3"
             },
             "line": {
              "color": "white"
             }
            },
            "type": "table"
           }
          ]
         },
         "layout": {
          "annotationdefaults": {
           "arrowcolor": "#2a3f5f",
           "arrowhead": 0,
           "arrowwidth": 1
          },
          "autotypenumbers": "strict",
          "coloraxis": {
           "colorbar": {
            "outlinewidth": 0,
            "ticks": ""
           }
          },
          "colorscale": {
           "diverging": [
            [
             0,
             "#8e0152"
            ],
            [
             0.1,
             "#c51b7d"
            ],
            [
             0.2,
             "#de77ae"
            ],
            [
             0.3,
             "#f1b6da"
            ],
            [
             0.4,
             "#fde0ef"
            ],
            [
             0.5,
             "#f7f7f7"
            ],
            [
             0.6,
             "#e6f5d0"
            ],
            [
             0.7,
             "#b8e186"
            ],
            [
             0.8,
             "#7fbc41"
            ],
            [
             0.9,
             "#4d9221"
            ],
            [
             1,
             "#276419"
            ]
           ],
           "sequential": [
            [
             0,
             "#0d0887"
            ],
            [
             0.1111111111111111,
             "#46039f"
            ],
            [
             0.2222222222222222,
             "#7201a8"
            ],
            [
             0.3333333333333333,
             "#9c179e"
            ],
            [
             0.4444444444444444,
             "#bd3786"
            ],
            [
             0.5555555555555556,
             "#d8576b"
            ],
            [
             0.6666666666666666,
             "#ed7953"
            ],
            [
             0.7777777777777778,
             "#fb9f3a"
            ],
            [
             0.8888888888888888,
             "#fdca26"
            ],
            [
             1,
             "#f0f921"
            ]
           ],
           "sequentialminus": [
            [
             0,
             "#0d0887"
            ],
            [
             0.1111111111111111,
             "#46039f"
            ],
            [
             0.2222222222222222,
             "#7201a8"
            ],
            [
             0.3333333333333333,
             "#9c179e"
            ],
            [
             0.4444444444444444,
             "#bd3786"
            ],
            [
             0.5555555555555556,
             "#d8576b"
            ],
            [
             0.6666666666666666,
             "#ed7953"
            ],
            [
             0.7777777777777778,
             "#fb9f3a"
            ],
            [
             0.8888888888888888,
             "#fdca26"
            ],
            [
             1,
             "#f0f921"
            ]
           ]
          },
          "colorway": [
           "#636efa",
           "#EF553B",
           "#00cc96",
           "#ab63fa",
           "#FFA15A",
           "#19d3f3",
           "#FF6692",
           "#B6E880",
           "#FF97FF",
           "#FECB52"
          ],
          "font": {
           "color": "#2a3f5f"
          },
          "geo": {
           "bgcolor": "white",
           "lakecolor": "white",
           "landcolor": "#E5ECF6",
           "showlakes": true,
           "showland": true,
           "subunitcolor": "white"
          },
          "hoverlabel": {
           "align": "left"
          },
          "hovermode": "closest",
          "mapbox": {
           "style": "light"
          },
          "paper_bgcolor": "white",
          "plot_bgcolor": "#E5ECF6",
          "polar": {
           "angularaxis": {
            "gridcolor": "white",
            "linecolor": "white",
            "ticks": ""
           },
           "bgcolor": "#E5ECF6",
           "radialaxis": {
            "gridcolor": "white",
            "linecolor": "white",
            "ticks": ""
           }
          },
          "scene": {
           "xaxis": {
            "backgroundcolor": "#E5ECF6",
            "gridcolor": "white",
            "gridwidth": 2,
            "linecolor": "white",
            "showbackground": true,
            "ticks": "",
            "zerolinecolor": "white"
           },
           "yaxis": {
            "backgroundcolor": "#E5ECF6",
            "gridcolor": "white",
            "gridwidth": 2,
            "linecolor": "white",
            "showbackground": true,
            "ticks": "",
            "zerolinecolor": "white"
           },
           "zaxis": {
            "backgroundcolor": "#E5ECF6",
            "gridcolor": "white",
            "gridwidth": 2,
            "linecolor": "white",
            "showbackground": true,
            "ticks": "",
            "zerolinecolor": "white"
           }
          },
          "shapedefaults": {
           "line": {
            "color": "#2a3f5f"
           }
          },
          "ternary": {
           "aaxis": {
            "gridcolor": "white",
            "linecolor": "white",
            "ticks": ""
           },
           "baxis": {
            "gridcolor": "white",
            "linecolor": "white",
            "ticks": ""
           },
           "bgcolor": "#E5ECF6",
           "caxis": {
            "gridcolor": "white",
            "linecolor": "white",
            "ticks": ""
           }
          },
          "title": {
           "x": 0.05
          },
          "xaxis": {
           "automargin": true,
           "gridcolor": "white",
           "linecolor": "white",
           "ticks": "",
           "title": {
            "standoff": 15
           },
           "zerolinecolor": "white",
           "zerolinewidth": 2
          },
          "yaxis": {
           "automargin": true,
           "gridcolor": "white",
           "linecolor": "white",
           "ticks": "",
           "title": {
            "standoff": 15
           },
           "zerolinecolor": "white",
           "zerolinewidth": 2
          }
         }
        },
        "title": {
         "text": "Distribution of item_name",
         "x": 0.5
        },
        "xaxis": {
         "anchor": "y",
         "domain": [
          0,
          1
         ],
         "title": {
          "text": "item_name"
         }
        },
        "yaxis": {
         "anchor": "x",
         "domain": [
          0,
          1
         ],
         "title": {
          "text": "value"
         }
        }
       }
      },
      "text/html": [
       "<div>                            <div id=\"6b403d34-4e80-43a5-97e6-3c8e2b54ac2e\" class=\"plotly-graph-div\" style=\"height:525px; width:100%;\"></div>            <script type=\"text/javascript\">                require([\"plotly\"], function(Plotly) {                    window.PLOTLYENV=window.PLOTLYENV || {};                                    if (document.getElementById(\"6b403d34-4e80-43a5-97e6-3c8e2b54ac2e\")) {                    Plotly.newPlot(                        \"6b403d34-4e80-43a5-97e6-3c8e2b54ac2e\",                        [{\"alignmentgroup\":\"True\",\"hovertemplate\":\"variable=item_name<br>index=%{x}<br>value=%{y}<extra></extra>\",\"legendgroup\":\"item_name\",\"marker\":{\"color\":\"#636efa\",\"pattern\":{\"shape\":\"\"}},\"name\":\"item_name\",\"offsetgroup\":\"item_name\",\"orientation\":\"v\",\"showlegend\":true,\"textposition\":\"outside\",\"texttemplate\":\"%{y}\",\"x\":[\"Chicken Bowl\",\"Chicken Burrito\",\"Chips and Guacamole\",\"Steak Burrito\",\"Canned Soft Drink\",\"Steak Bowl\",\"Chips\",\"Bottled Water\",\"Chicken Soft Tacos\",\"Chips and Fresh Tomato Salsa\",\"Chicken Salad Bowl\",\"Canned Soda\",\"Side of Chips\",\"Veggie Burrito\",\"Barbacoa Burrito\",\"Veggie Bowl\",\"Carnitas Bowl\",\"Barbacoa Bowl\",\"Carnitas Burrito\",\"Steak Soft Tacos\",\"6 Pack Soft Drink\",\"Chicken Crispy Tacos\",\"Chips and Tomatillo Red Chili Salsa\",\"Chips and Tomatillo Green Chili Salsa\",\"Carnitas Soft Tacos\",\"Steak Crispy Tacos\",\"Chips and Tomatillo-Green Chili Salsa\",\"Steak Salad Bowl\",\"Nantucket Nectar\",\"Barbacoa Soft Tacos\",\"Chips and Roasted Chili Corn Salsa\",\"Izze\",\"Chips and Tomatillo-Red Chili Salsa\",\"Veggie Salad Bowl\",\"Chips and Roasted Chili-Corn Salsa\",\"Barbacoa Crispy Tacos\",\"Chicken Salad\",\"Barbacoa Salad Bowl\",\"Veggie Soft Tacos\",\"Carnitas Crispy Tacos\",\"Veggie Salad\",\"Carnitas Salad Bowl\",\"Burrito\",\"Steak Salad\",\"Crispy Tacos\",\"Salad\",\"Bowl\",\"Chips and Mild Fresh Tomato Salsa\",\"Veggie Crispy Tacos\",\"Carnitas Salad\"],\"xaxis\":\"x\",\"y\":[717,546,474,365,290,210,208,155,111,110,110,102,101,95,90,85,68,65,59,55,54,47,46,43,40,35,31,29,27,25,22,19,19,18,18,11,9,9,7,7,6,6,6,4,2,2,2,1,1,1],\"yaxis\":\"y\",\"type\":\"bar\"}],                        {\"template\":{\"data\":{\"histogram2dcontour\":[{\"type\":\"histogram2dcontour\",\"colorbar\":{\"outlinewidth\":0,\"ticks\":\"\"},\"colorscale\":[[0.0,\"#0d0887\"],[0.1111111111111111,\"#46039f\"],[0.2222222222222222,\"#7201a8\"],[0.3333333333333333,\"#9c179e\"],[0.4444444444444444,\"#bd3786\"],[0.5555555555555556,\"#d8576b\"],[0.6666666666666666,\"#ed7953\"],[0.7777777777777778,\"#fb9f3a\"],[0.8888888888888888,\"#fdca26\"],[1.0,\"#f0f921\"]]}],\"choropleth\":[{\"type\":\"choropleth\",\"colorbar\":{\"outlinewidth\":0,\"ticks\":\"\"}}],\"histogram2d\":[{\"type\":\"histogram2d\",\"colorbar\":{\"outlinewidth\":0,\"ticks\":\"\"},\"colorscale\":[[0.0,\"#0d0887\"],[0.1111111111111111,\"#46039f\"],[0.2222222222222222,\"#7201a8\"],[0.3333333333333333,\"#9c179e\"],[0.4444444444444444,\"#bd3786\"],[0.5555555555555556,\"#d8576b\"],[0.6666666666666666,\"#ed7953\"],[0.7777777777777778,\"#fb9f3a\"],[0.8888888888888888,\"#fdca26\"],[1.0,\"#f0f921\"]]}],\"heatmap\":[{\"type\":\"heatmap\",\"colorbar\":{\"outlinewidth\":0,\"ticks\":\"\"},\"colorscale\":[[0.0,\"#0d0887\"],[0.1111111111111111,\"#46039f\"],[0.2222222222222222,\"#7201a8\"],[0.3333333333333333,\"#9c179e\"],[0.4444444444444444,\"#bd3786\"],[0.5555555555555556,\"#d8576b\"],[0.6666666666666666,\"#ed7953\"],[0.7777777777777778,\"#fb9f3a\"],[0.8888888888888888,\"#fdca26\"],[1.0,\"#f0f921\"]]}],\"heatmapgl\":[{\"type\":\"heatmapgl\",\"colorbar\":{\"outlinewidth\":0,\"ticks\":\"\"},\"colorscale\":[[0.0,\"#0d0887\"],[0.1111111111111111,\"#46039f\"],[0.2222222222222222,\"#7201a8\"],[0.3333333333333333,\"#9c179e\"],[0.4444444444444444,\"#bd3786\"],[0.5555555555555556,\"#d8576b\"],[0.6666666666666666,\"#ed7953\"],[0.7777777777777778,\"#fb9f3a\"],[0.8888888888888888,\"#fdca26\"],[1.0,\"#f0f921\"]]}],\"contourcarpet\":[{\"type\":\"contourcarpet\",\"colorbar\":{\"outlinewidth\":0,\"ticks\":\"\"}}],\"contour\":[{\"type\":\"contour\",\"colorbar\":{\"outlinewidth\":0,\"ticks\":\"\"},\"colorscale\":[[0.0,\"#0d0887\"],[0.1111111111111111,\"#46039f\"],[0.2222222222222222,\"#7201a8\"],[0.3333333333333333,\"#9c179e\"],[0.4444444444444444,\"#bd3786\"],[0.5555555555555556,\"#d8576b\"],[0.6666666666666666,\"#ed7953\"],[0.7777777777777778,\"#fb9f3a\"],[0.8888888888888888,\"#fdca26\"],[1.0,\"#f0f921\"]]}],\"surface\":[{\"type\":\"surface\",\"colorbar\":{\"outlinewidth\":0,\"ticks\":\"\"},\"colorscale\":[[0.0,\"#0d0887\"],[0.1111111111111111,\"#46039f\"],[0.2222222222222222,\"#7201a8\"],[0.3333333333333333,\"#9c179e\"],[0.4444444444444444,\"#bd3786\"],[0.5555555555555556,\"#d8576b\"],[0.6666666666666666,\"#ed7953\"],[0.7777777777777778,\"#fb9f3a\"],[0.8888888888888888,\"#fdca26\"],[1.0,\"#f0f921\"]]}],\"mesh3d\":[{\"type\":\"mesh3d\",\"colorbar\":{\"outlinewidth\":0,\"ticks\":\"\"}}],\"scatter\":[{\"fillpattern\":{\"fillmode\":\"overlay\",\"size\":10,\"solidity\":0.2},\"type\":\"scatter\"}],\"parcoords\":[{\"type\":\"parcoords\",\"line\":{\"colorbar\":{\"outlinewidth\":0,\"ticks\":\"\"}}}],\"scatterpolargl\":[{\"type\":\"scatterpolargl\",\"marker\":{\"colorbar\":{\"outlinewidth\":0,\"ticks\":\"\"}}}],\"bar\":[{\"error_x\":{\"color\":\"#2a3f5f\"},\"error_y\":{\"color\":\"#2a3f5f\"},\"marker\":{\"line\":{\"color\":\"#E5ECF6\",\"width\":0.5},\"pattern\":{\"fillmode\":\"overlay\",\"size\":10,\"solidity\":0.2}},\"type\":\"bar\"}],\"scattergeo\":[{\"type\":\"scattergeo\",\"marker\":{\"colorbar\":{\"outlinewidth\":0,\"ticks\":\"\"}}}],\"scatterpolar\":[{\"type\":\"scatterpolar\",\"marker\":{\"colorbar\":{\"outlinewidth\":0,\"ticks\":\"\"}}}],\"histogram\":[{\"marker\":{\"pattern\":{\"fillmode\":\"overlay\",\"size\":10,\"solidity\":0.2}},\"type\":\"histogram\"}],\"scattergl\":[{\"type\":\"scattergl\",\"marker\":{\"colorbar\":{\"outlinewidth\":0,\"ticks\":\"\"}}}],\"scatter3d\":[{\"type\":\"scatter3d\",\"line\":{\"colorbar\":{\"outlinewidth\":0,\"ticks\":\"\"}},\"marker\":{\"colorbar\":{\"outlinewidth\":0,\"ticks\":\"\"}}}],\"scattermapbox\":[{\"type\":\"scattermapbox\",\"marker\":{\"colorbar\":{\"outlinewidth\":0,\"ticks\":\"\"}}}],\"scatterternary\":[{\"type\":\"scatterternary\",\"marker\":{\"colorbar\":{\"outlinewidth\":0,\"ticks\":\"\"}}}],\"scattercarpet\":[{\"type\":\"scattercarpet\",\"marker\":{\"colorbar\":{\"outlinewidth\":0,\"ticks\":\"\"}}}],\"carpet\":[{\"aaxis\":{\"endlinecolor\":\"#2a3f5f\",\"gridcolor\":\"white\",\"linecolor\":\"white\",\"minorgridcolor\":\"white\",\"startlinecolor\":\"#2a3f5f\"},\"baxis\":{\"endlinecolor\":\"#2a3f5f\",\"gridcolor\":\"white\",\"linecolor\":\"white\",\"minorgridcolor\":\"white\",\"startlinecolor\":\"#2a3f5f\"},\"type\":\"carpet\"}],\"table\":[{\"cells\":{\"fill\":{\"color\":\"#EBF0F8\"},\"line\":{\"color\":\"white\"}},\"header\":{\"fill\":{\"color\":\"#C8D4E3\"},\"line\":{\"color\":\"white\"}},\"type\":\"table\"}],\"barpolar\":[{\"marker\":{\"line\":{\"color\":\"#E5ECF6\",\"width\":0.5},\"pattern\":{\"fillmode\":\"overlay\",\"size\":10,\"solidity\":0.2}},\"type\":\"barpolar\"}],\"pie\":[{\"automargin\":true,\"type\":\"pie\"}]},\"layout\":{\"autotypenumbers\":\"strict\",\"colorway\":[\"#636efa\",\"#EF553B\",\"#00cc96\",\"#ab63fa\",\"#FFA15A\",\"#19d3f3\",\"#FF6692\",\"#B6E880\",\"#FF97FF\",\"#FECB52\"],\"font\":{\"color\":\"#2a3f5f\"},\"hovermode\":\"closest\",\"hoverlabel\":{\"align\":\"left\"},\"paper_bgcolor\":\"white\",\"plot_bgcolor\":\"#E5ECF6\",\"polar\":{\"bgcolor\":\"#E5ECF6\",\"angularaxis\":{\"gridcolor\":\"white\",\"linecolor\":\"white\",\"ticks\":\"\"},\"radialaxis\":{\"gridcolor\":\"white\",\"linecolor\":\"white\",\"ticks\":\"\"}},\"ternary\":{\"bgcolor\":\"#E5ECF6\",\"aaxis\":{\"gridcolor\":\"white\",\"linecolor\":\"white\",\"ticks\":\"\"},\"baxis\":{\"gridcolor\":\"white\",\"linecolor\":\"white\",\"ticks\":\"\"},\"caxis\":{\"gridcolor\":\"white\",\"linecolor\":\"white\",\"ticks\":\"\"}},\"coloraxis\":{\"colorbar\":{\"outlinewidth\":0,\"ticks\":\"\"}},\"colorscale\":{\"sequential\":[[0.0,\"#0d0887\"],[0.1111111111111111,\"#46039f\"],[0.2222222222222222,\"#7201a8\"],[0.3333333333333333,\"#9c179e\"],[0.4444444444444444,\"#bd3786\"],[0.5555555555555556,\"#d8576b\"],[0.6666666666666666,\"#ed7953\"],[0.7777777777777778,\"#fb9f3a\"],[0.8888888888888888,\"#fdca26\"],[1.0,\"#f0f921\"]],\"sequentialminus\":[[0.0,\"#0d0887\"],[0.1111111111111111,\"#46039f\"],[0.2222222222222222,\"#7201a8\"],[0.3333333333333333,\"#9c179e\"],[0.4444444444444444,\"#bd3786\"],[0.5555555555555556,\"#d8576b\"],[0.6666666666666666,\"#ed7953\"],[0.7777777777777778,\"#fb9f3a\"],[0.8888888888888888,\"#fdca26\"],[1.0,\"#f0f921\"]],\"diverging\":[[0,\"#8e0152\"],[0.1,\"#c51b7d\"],[0.2,\"#de77ae\"],[0.3,\"#f1b6da\"],[0.4,\"#fde0ef\"],[0.5,\"#f7f7f7\"],[0.6,\"#e6f5d0\"],[0.7,\"#b8e186\"],[0.8,\"#7fbc41\"],[0.9,\"#4d9221\"],[1,\"#276419\"]]},\"xaxis\":{\"gridcolor\":\"white\",\"linecolor\":\"white\",\"ticks\":\"\",\"title\":{\"standoff\":15},\"zerolinecolor\":\"white\",\"automargin\":true,\"zerolinewidth\":2},\"yaxis\":{\"gridcolor\":\"white\",\"linecolor\":\"white\",\"ticks\":\"\",\"title\":{\"standoff\":15},\"zerolinecolor\":\"white\",\"automargin\":true,\"zerolinewidth\":2},\"scene\":{\"xaxis\":{\"backgroundcolor\":\"#E5ECF6\",\"gridcolor\":\"white\",\"linecolor\":\"white\",\"showbackground\":true,\"ticks\":\"\",\"zerolinecolor\":\"white\",\"gridwidth\":2},\"yaxis\":{\"backgroundcolor\":\"#E5ECF6\",\"gridcolor\":\"white\",\"linecolor\":\"white\",\"showbackground\":true,\"ticks\":\"\",\"zerolinecolor\":\"white\",\"gridwidth\":2},\"zaxis\":{\"backgroundcolor\":\"#E5ECF6\",\"gridcolor\":\"white\",\"linecolor\":\"white\",\"showbackground\":true,\"ticks\":\"\",\"zerolinecolor\":\"white\",\"gridwidth\":2}},\"shapedefaults\":{\"line\":{\"color\":\"#2a3f5f\"}},\"annotationdefaults\":{\"arrowcolor\":\"#2a3f5f\",\"arrowhead\":0,\"arrowwidth\":1},\"geo\":{\"bgcolor\":\"white\",\"landcolor\":\"#E5ECF6\",\"subunitcolor\":\"white\",\"showland\":true,\"showlakes\":true,\"lakecolor\":\"white\"},\"title\":{\"x\":0.05},\"mapbox\":{\"style\":\"light\"}}},\"xaxis\":{\"anchor\":\"y\",\"domain\":[0.0,1.0],\"title\":{\"text\":\"item_name\"}},\"yaxis\":{\"anchor\":\"x\",\"domain\":[0.0,1.0],\"title\":{\"text\":\"value\"}},\"legend\":{\"title\":{\"text\":\"variable\"},\"tracegroupgap\":0},\"margin\":{\"t\":60},\"barmode\":\"relative\",\"title\":{\"text\":\"Distribution of item_name\",\"x\":0.5}},                        {\"responsive\": true}                    ).then(function(){\n",
       "                            \n",
       "var gd = document.getElementById('6b403d34-4e80-43a5-97e6-3c8e2b54ac2e');\n",
       "var x = new MutationObserver(function (mutations, observer) {{\n",
       "        var display = window.getComputedStyle(gd).display;\n",
       "        if (!display || display === 'none') {{\n",
       "            console.log([gd, 'removed!']);\n",
       "            Plotly.purge(gd);\n",
       "            observer.disconnect();\n",
       "        }}\n",
       "}});\n",
       "\n",
       "// Listen for the removal of the full notebook cells\n",
       "var notebookContainer = gd.closest('#notebook-container');\n",
       "if (notebookContainer) {{\n",
       "    x.observe(notebookContainer, {childList: true});\n",
       "}}\n",
       "\n",
       "// Listen for the clearing of the current output cell\n",
       "var outputEl = gd.closest('.output');\n",
       "if (outputEl) {{\n",
       "    x.observe(outputEl, {childList: true});\n",
       "}}\n",
       "\n",
       "                        })                };                });            </script>        </div>"
      ]
     },
     "metadata": {},
     "output_type": "display_data"
    }
   ],
   "source": [
    "fig=px.bar(data_frame=chipo.item_name.value_counts(),text_auto=True)\n",
    "fig.update_layout(title=\"Distribution of item_name\" )\n",
    "fig.update_layout(xaxis_title= \"item_name\")\n",
    "fig.update_traces(textposition='outside')\n",
    "fig.update_layout(title_x=.5)\n",
    "fig.show()"
   ]
  },
  {
   "cell_type": "code",
   "execution_count": null,
   "id": "fe820142",
   "metadata": {},
   "outputs": [],
   "source": [
    "## Which was the most-ordered item?  Chicken Bowl "
   ]
  },
  {
   "cell_type": "code",
   "execution_count": null,
   "id": "1600ba87",
   "metadata": {},
   "outputs": [],
   "source": []
  },
  {
   "cell_type": "code",
   "execution_count": null,
   "id": "fcdad1d7",
   "metadata": {},
   "outputs": [],
   "source": [
    "## For the most-ordered item, how many items were ordered? 717"
   ]
  },
  {
   "cell_type": "code",
   "execution_count": null,
   "id": "a74892ec",
   "metadata": {},
   "outputs": [],
   "source": []
  },
  {
   "cell_type": "code",
   "execution_count": null,
   "id": "027d901e",
   "metadata": {},
   "outputs": [],
   "source": [
    "## What was the most ordered item in the choice_description column?"
   ]
  },
  {
   "cell_type": "code",
   "execution_count": 141,
   "id": "67be00ca",
   "metadata": {
    "scrolled": false
   },
   "outputs": [
    {
     "data": {
      "text/plain": [
       "choice_description                                                                                                                                                                                item_name   \n",
       "[Fresh Tomato (Mild), [Guacamole, Rice]]                                                                                                                                                          Chicken Bowl     1\n",
       "[Fresh Tomato (Mild), [Lettuce, Fajita Veggies, Black Beans, Rice, Sour Cream, Cheese]]                                                                                                           Chicken Bowl     1\n",
       "[Fresh Tomato (Mild), [Lettuce, Fajita Veggies, Pinto Beans, Rice, Sour Cream, Cheese]]                                                                                                           Chicken Bowl     1\n",
       "[Fresh Tomato (Mild), [Rice, Sour Cream, Cheese]]                                                                                                                                                 Chicken Bowl     1\n",
       "[Fresh Tomato Salsa (Mild), Cheese]                                                                                                                                                               Chicken Bowl     1\n",
       "[Fresh Tomato Salsa (Mild), Lettuce]                                                                                                                                                              Chicken Bowl     1\n",
       "[Fresh Tomato Salsa (Mild), [Black Beans, Rice, Cheese, Sour Cream, Guacamole, Lettuce]]                                                                                                          Chicken Bowl     1\n",
       "[Fresh Tomato Salsa (Mild), [Black Beans, Rice, Cheese, Sour Cream, Lettuce]]                                                                                                                     Chicken Bowl     1\n",
       "[Fresh Tomato Salsa (Mild), [Black Beans, Rice, Cheese]]                                                                                                                                          Chicken Bowl     3\n",
       "[Fresh Tomato Salsa (Mild), [Black Beans, Rice, Fajita Veggies, Cheese, Sour Cream, Guacamole, Lettuce]]                                                                                          Chicken Bowl     1\n",
       "[Fresh Tomato Salsa (Mild), [Black Beans, Rice, Fajita Veggies, Cheese, Sour Cream, Lettuce]]                                                                                                     Chicken Bowl     5\n",
       "[Fresh Tomato Salsa (Mild), [Black Beans, Rice, Fajita Veggies, Cheese]]                                                                                                                          Chicken Bowl     2\n",
       "[Fresh Tomato Salsa (Mild), [Black Beans, Rice, Fajita Veggies, Guacamole, Lettuce]]                                                                                                              Chicken Bowl     1\n",
       "[Fresh Tomato Salsa (Mild), [Black Beans, Rice, Guacamole, Lettuce]]                                                                                                                              Chicken Bowl     2\n",
       "[Fresh Tomato Salsa (Mild), [Black Beans, Rice, Sour Cream, Guacamole]]                                                                                                                           Chicken Bowl     2\n",
       "[Fresh Tomato Salsa (Mild), [Pinto Beans, Rice, Cheese, Sour Cream, Guacamole, Lettuce]]                                                                                                          Chicken Bowl     1\n",
       "[Fresh Tomato Salsa (Mild), [Pinto Beans, Rice, Cheese, Sour Cream, Lettuce]]                                                                                                                     Chicken Bowl     1\n",
       "[Fresh Tomato Salsa (Mild), [Pinto Beans, Rice, Cheese, Sour Cream]]                                                                                                                              Chicken Bowl     1\n",
       "[Fresh Tomato Salsa (Mild), [Pinto Beans, Rice, Fajita Veggies, Cheese, Sour Cream, Guacamole, Lettuce]]                                                                                          Chicken Bowl     1\n",
       "[Fresh Tomato Salsa (Mild), [Pinto Beans, Rice, Sour Cream, Guacamole]]                                                                                                                           Chicken Bowl     1\n",
       "[Fresh Tomato Salsa (Mild), [Rice, Black Beans, Fajita Veggies, Cheese, Guacamole, Lettuce]]                                                                                                      Chicken Bowl     2\n",
       "[Fresh Tomato Salsa (Mild), [Rice, Black Beans, Fajita Veggies, Cheese, Sour Cream, Lettuce]]                                                                                                     Chicken Bowl     2\n",
       "[Fresh Tomato Salsa (Mild), [Rice, Black Beans, Sour Cream, Guacamole]]                                                                                                                           Chicken Bowl     1\n",
       "[Fresh Tomato Salsa (Mild), [Rice, Cheese, Sour Cream, Guacamole, Lettuce]]                                                                                                                       Chicken Bowl     2\n",
       "[Fresh Tomato Salsa (Mild), [Rice, Cheese, Sour Cream, Lettuce]]                                                                                                                                  Chicken Bowl     1\n",
       "[Fresh Tomato Salsa (Mild), [Rice, Fajita Veggies, Cheese, Lettuce]]                                                                                                                              Chicken Bowl     1\n",
       "[Fresh Tomato Salsa (Mild), [Rice, Fajita Veggies, Cheese, Sour Cream, Lettuce]]                                                                                                                  Chicken Bowl     1\n",
       "[Fresh Tomato Salsa (Mild), [Rice, Fajita Veggies, Sour Cream, Guacamole]]                                                                                                                        Chicken Bowl     1\n",
       "[Fresh Tomato Salsa (Mild), [Rice, Pinto Beans, Cheese, Guacamole, Lettuce]]                                                                                                                      Chicken Bowl     1\n",
       "[Fresh Tomato Salsa, Cheese]                                                                                                                                                                      Chicken Bowl     3\n",
       "[Fresh Tomato Salsa, Rice]                                                                                                                                                                        Chicken Bowl     1\n",
       "[Fresh Tomato Salsa, [Black Beans, Cheese, Guacamole, Lettuce]]                                                                                                                                   Chicken Bowl     1\n",
       "[Fresh Tomato Salsa, [Black Beans, Cheese, Sour Cream]]                                                                                                                                           Chicken Bowl     1\n",
       "[Fresh Tomato Salsa, [Black Beans, Rice, Sour Cream, Cheese, Guacamole, Lettuce]]                                                                                                                 Chicken Bowl     1\n",
       "[Fresh Tomato Salsa, [Cheese, Black Beans, Rice]]                                                                                                                                                 Chicken Bowl     1\n",
       "[Fresh Tomato Salsa, [Cheese, Guacamole, Sour Cream, Fajita Vegetables, Rice]]                                                                                                                    Chicken Bowl     1\n",
       "[Fresh Tomato Salsa, [Cheese, Rice, Black Beans]]                                                                                                                                                 Chicken Bowl     1\n",
       "[Fresh Tomato Salsa, [Fajita Vegetables, Black Beans, Pinto Beans, Guacamole, Lettuce]]                                                                                                           Chicken Bowl     1\n",
       "[Fresh Tomato Salsa, [Fajita Vegetables, Pinto Beans, Guacamole, Lettuce]]                                                                                                                        Chicken Bowl     1\n",
       "[Fresh Tomato Salsa, [Fajita Vegetables, Rice, Black Beans, Cheese, Guacamole, Lettuce]]                                                                                                          Chicken Bowl     8\n",
       "[Fresh Tomato Salsa, [Fajita Vegetables, Rice, Black Beans, Cheese, Guacamole]]                                                                                                                   Chicken Bowl     1\n",
       "[Fresh Tomato Salsa, [Fajita Vegetables, Rice, Black Beans, Cheese, Sour Cream, Guacamole, Lettuce]]                                                                                              Chicken Bowl     7\n",
       "[Fresh Tomato Salsa, [Fajita Vegetables, Rice, Black Beans, Cheese, Sour Cream, Lettuce]]                                                                                                         Chicken Bowl     9\n",
       "[Fresh Tomato Salsa, [Fajita Vegetables, Rice, Black Beans, Cheese]]                                                                                                                              Chicken Bowl     2\n",
       "[Fresh Tomato Salsa, [Fajita Vegetables, Rice, Black Beans, Guacamole, Lettuce]]                                                                                                                  Chicken Bowl     3\n",
       "[Fresh Tomato Salsa, [Fajita Vegetables, Rice, Black Beans, Pinto Beans, Cheese, Sour Cream, Guacamole, Lettuce]]                                                                                 Chicken Bowl     2\n",
       "[Fresh Tomato Salsa, [Fajita Vegetables, Rice, Black Beans, Pinto Beans, Cheese, Sour Cream, Guacamole]]                                                                                          Chicken Bowl     1\n",
       "[Fresh Tomato Salsa, [Fajita Vegetables, Rice, Black Beans, Pinto Beans, Cheese, Sour Cream]]                                                                                                     Chicken Bowl     1\n",
       "[Fresh Tomato Salsa, [Fajita Vegetables, Rice, Black Beans, Sour Cream, Guacamole, Lettuce]]                                                                                                      Chicken Bowl     2\n",
       "[Fresh Tomato Salsa, [Fajita Vegetables, Rice, Black Beans, Sour Cream, Lettuce]]                                                                                                                 Chicken Bowl     2\n",
       "[Fresh Tomato Salsa, [Fajita Vegetables, Rice, Black Beans, Sour Cream]]                                                                                                                          Chicken Bowl     2\n",
       "[Fresh Tomato Salsa, [Fajita Vegetables, Rice, Cheese, Guacamole]]                                                                                                                                Chicken Bowl     2\n",
       "[Fresh Tomato Salsa, [Fajita Vegetables, Rice, Cheese, Lettuce]]                                                                                                                                  Chicken Bowl     1\n",
       "[Fresh Tomato Salsa, [Fajita Vegetables, Rice, Cheese, Sour Cream, Guacamole, Lettuce]]                                                                                                           Chicken Bowl     8\n",
       "[Fresh Tomato Salsa, [Fajita Vegetables, Rice, Cheese, Sour Cream, Guacamole]]                                                                                                                    Chicken Bowl     3\n",
       "[Fresh Tomato Salsa, [Fajita Vegetables, Rice, Cheese, Sour Cream, Lettuce]]                                                                                                                      Chicken Bowl     3\n",
       "[Fresh Tomato Salsa, [Fajita Vegetables, Rice, Guacamole, Lettuce]]                                                                                                                               Chicken Bowl     3\n",
       "[Fresh Tomato Salsa, [Fajita Vegetables, Rice, Lettuce]]                                                                                                                                          Chicken Bowl    10\n",
       "[Fresh Tomato Salsa, [Fajita Vegetables, Rice, Pinto Beans, Cheese, Guacamole, Lettuce]]                                                                                                          Chicken Bowl     2\n",
       "[Fresh Tomato Salsa, [Fajita Vegetables, Rice, Pinto Beans, Cheese, Sour Cream, Guacamole, Lettuce]]                                                                                              Chicken Bowl     5\n",
       "[Fresh Tomato Salsa, [Fajita Vegetables, Rice, Pinto Beans, Cheese, Sour Cream, Lettuce]]                                                                                                         Chicken Bowl     1\n",
       "[Fresh Tomato Salsa, [Fajita Vegetables, Rice, Pinto Beans, Cheese]]                                                                                                                              Chicken Bowl     1\n",
       "[Fresh Tomato Salsa, [Fajita Vegetables, Rice, Sour Cream, Guacamole, Lettuce]]                                                                                                                   Chicken Bowl     2\n",
       "[Fresh Tomato Salsa, [Fajita Vegetables, Rice, Sour Cream, Guacamole]]                                                                                                                            Chicken Bowl     1\n",
       "[Fresh Tomato Salsa, [Fajita Vegetables, Rice, Sour Cream, Lettuce]]                                                                                                                              Chicken Bowl     4\n",
       "[Fresh Tomato Salsa, [Fajita Vegetables, Rice]]                                                                                                                                                   Chicken Bowl    17\n",
       "[Fresh Tomato Salsa, [Guacamole, Cheese, Rice, Sour Cream, Fajita Vegetables]]                                                                                                                    Chicken Bowl     1\n",
       "[Fresh Tomato Salsa, [Guacamole, Cheese, Sour Cream, Fajita Vegetables, Rice]]                                                                                                                    Chicken Bowl     2\n",
       "[Fresh Tomato Salsa, [Guacamole, Lettuce, Rice, Cheese, Sour Cream, Black Beans]]                                                                                                                 Chicken Bowl     1\n",
       "[Fresh Tomato Salsa, [Guacamole, Lettuce]]                                                                                                                                                        Chicken Bowl     1\n",
       "[Fresh Tomato Salsa, [Guacamole, Sour Cream, Cheese, Rice, Fajita Vegetables]]                                                                                                                    Chicken Bowl     2\n",
       "[Fresh Tomato Salsa, [Lettuce, Cheese, Pinto Beans, Rice]]                                                                                                                                        Chicken Bowl     1\n",
       "[Fresh Tomato Salsa, [Lettuce, Fajita Vegetables, Guacamole, Rice, Black Beans]]                                                                                                                  Chicken Bowl     1\n",
       "[Fresh Tomato Salsa, [Pinto Beans, Cheese, Guacamole]]                                                                                                                                            Chicken Bowl     1\n",
       "[Fresh Tomato Salsa, [Pinto Beans, Rice, Cheese, Lettuce, Guacamole, Sour Cream, Fajita Vegetables]]                                                                                              Chicken Bowl     1\n",
       "[Fresh Tomato Salsa, [Pinto Beans, Rice, Lettuce, Cheese]]                                                                                                                                        Chicken Bowl     1\n",
       "[Fresh Tomato Salsa, [Rice, Black Beans, Cheese, Guacamole, Lettuce]]                                                                                                                             Chicken Bowl     7\n",
       "[Fresh Tomato Salsa, [Rice, Black Beans, Cheese, Guacamole]]                                                                                                                                      Chicken Bowl     1\n",
       "[Fresh Tomato Salsa, [Rice, Black Beans, Cheese, Lettuce, Guacamole]]                                                                                                                             Chicken Bowl     1\n",
       "[Fresh Tomato Salsa, [Rice, Black Beans, Cheese, Lettuce]]                                                                                                                                        Chicken Bowl     5\n",
       "[Fresh Tomato Salsa, [Rice, Black Beans, Cheese, Sour Cream, Guacamole, Lettuce]]                                                                                                                 Chicken Bowl    14\n",
       "[Fresh Tomato Salsa, [Rice, Black Beans, Cheese, Sour Cream, Guacamole]]                                                                                                                          Chicken Bowl     8\n",
       "[Fresh Tomato Salsa, [Rice, Black Beans, Cheese, Sour Cream, Lettuce]]                                                                                                                            Chicken Bowl    14\n",
       "[Fresh Tomato Salsa, [Rice, Black Beans, Cheese, Sour Cream]]                                                                                                                                     Chicken Bowl    11\n",
       "[Fresh Tomato Salsa, [Rice, Black Beans, Cheese]]                                                                                                                                                 Chicken Bowl    13\n",
       "[Fresh Tomato Salsa, [Rice, Black Beans, Fajita Vegetables, Lettuce, Cheese, Sour Cream]]                                                                                                         Chicken Bowl     1\n",
       "[Fresh Tomato Salsa, [Rice, Black Beans, Guacamole, Lettuce]]                                                                                                                                     Chicken Bowl     3\n",
       "[Fresh Tomato Salsa, [Rice, Black Beans, Guacamole]]                                                                                                                                              Chicken Bowl     2\n",
       "[Fresh Tomato Salsa, [Rice, Black Beans, Lettuce, Guacamole]]                                                                                                                                     Chicken Bowl     1\n",
       "[Fresh Tomato Salsa, [Rice, Black Beans, Lettuce]]                                                                                                                                                Chicken Bowl     2\n",
       "[Fresh Tomato Salsa, [Rice, Black Beans, Pinto Beans, Cheese, Lettuce]]                                                                                                                           Chicken Bowl     2\n",
       "[Fresh Tomato Salsa, [Rice, Black Beans, Pinto Beans, Cheese, Sour Cream, Guacamole]]                                                                                                             Chicken Bowl     1\n",
       "[Fresh Tomato Salsa, [Rice, Black Beans, Pinto Beans, Cheese, Sour Cream]]                                                                                                                        Chicken Bowl     1\n",
       "[Fresh Tomato Salsa, [Rice, Black Beans, Pinto Beans, Cheese]]                                                                                                                                    Chicken Bowl     1\n",
       "[Fresh Tomato Salsa, [Rice, Black Beans, Pinto Beans, Guacamole, Lettuce]]                                                                                                                        Chicken Bowl     1\n",
       "[Fresh Tomato Salsa, [Rice, Black Beans, Sour Cream, Cheese, Guacamole]]                                                                                                                          Chicken Bowl     1\n",
       "[Fresh Tomato Salsa, [Rice, Black Beans, Sour Cream, Cheese, Lettuce, Guacamole]]                                                                                                                 Chicken Bowl     1\n",
       "[Fresh Tomato Salsa, [Rice, Black Beans, Sour Cream, Cheese]]                                                                                                                                     Chicken Bowl     3\n",
       "[Fresh Tomato Salsa, [Rice, Black Beans, Sour Cream, Guacamole, Lettuce]]                                                                                                                         Chicken Bowl     2\n",
       "[Fresh Tomato Salsa, [Rice, Black Beans, Sour Cream]]                                                                                                                                             Chicken Bowl     3\n",
       "[Fresh Tomato Salsa, [Rice, Black Beans]]                                                                                                                                                         Chicken Bowl     1\n",
       "[Fresh Tomato Salsa, [Rice, Cheese, Black Beans]]                                                                                                                                                 Chicken Bowl     1\n",
       "[Fresh Tomato Salsa, [Rice, Cheese, Guacamole, Lettuce]]                                                                                                                                          Chicken Bowl     1\n",
       "[Fresh Tomato Salsa, [Rice, Cheese, Lettuce]]                                                                                                                                                     Chicken Bowl    13\n",
       "[Fresh Tomato Salsa, [Rice, Cheese, Sour Cream, Guacamole, Fajita Vegetables]]                                                                                                                    Chicken Bowl     1\n",
       "[Fresh Tomato Salsa, [Rice, Cheese, Sour Cream, Guacamole, Lettuce]]                                                                                                                              Chicken Bowl     1\n",
       "[Fresh Tomato Salsa, [Rice, Cheese, Sour Cream, Guacamole]]                                                                                                                                       Chicken Bowl     5\n",
       "[Fresh Tomato Salsa, [Rice, Cheese, Sour Cream, Lettuce]]                                                                                                                                         Chicken Bowl    13\n",
       "[Fresh Tomato Salsa, [Rice, Cheese, Sour Cream]]                                                                                                                                                  Chicken Bowl    10\n",
       "[Fresh Tomato Salsa, [Rice, Cheese]]                                                                                                                                                              Chicken Bowl     1\n",
       "[Fresh Tomato Salsa, [Rice, Fajita Vegetables, Black Beans, Cheese, Lettuce]]                                                                                                                     Chicken Bowl     1\n",
       "[Fresh Tomato Salsa, [Rice, Fajita Vegetables, Black Beans, Sour Cream, Cheese, Lettuce, Guacamole]]                                                                                              Chicken Bowl     1\n",
       "[Fresh Tomato Salsa, [Rice, Fajita Vegetables, Black Beans, Sour Cream, Cheese, Lettuce]]                                                                                                         Chicken Bowl     1\n",
       "[Fresh Tomato Salsa, [Rice, Fajita Vegetables, Black Beans]]                                                                                                                                      Chicken Bowl     1\n",
       "[Fresh Tomato Salsa, [Rice, Fajita Vegetables, Cheese, Lettuce, Guacamole]]                                                                                                                       Chicken Bowl     1\n",
       "[Fresh Tomato Salsa, [Rice, Fajita Vegetables, Pinto Beans, Cheese, Lettuce, Guacamole]]                                                                                                          Chicken Bowl     1\n",
       "[Fresh Tomato Salsa, [Rice, Fajita Vegetables, Pinto Beans, Sour Cream, Cheese, Lettuce, Guacamole]]                                                                                              Chicken Bowl     1\n",
       "[Fresh Tomato Salsa, [Rice, Fajita Vegetables, Sour Cream, Cheese, Guacamole]]                                                                                                                    Chicken Bowl     4\n",
       "[Fresh Tomato Salsa, [Rice, Fajita Vegetables]]                                                                                                                                                   Chicken Bowl     8\n",
       "[Fresh Tomato Salsa, [Rice, Guacamole, Lettuce]]                                                                                                                                                  Chicken Bowl     1\n",
       "[Fresh Tomato Salsa, [Rice, Guacamole]]                                                                                                                                                           Chicken Bowl     1\n",
       "[Fresh Tomato Salsa, [Rice, Lettuce]]                                                                                                                                                             Chicken Bowl     2\n",
       "[Fresh Tomato Salsa, [Rice, Pinto Beans, Cheese, Guacamole, Lettuce]]                                                                                                                             Chicken Bowl     1\n",
       "[Fresh Tomato Salsa, [Rice, Pinto Beans, Cheese, Lettuce]]                                                                                                                                        Chicken Bowl     3\n",
       "[Fresh Tomato Salsa, [Rice, Pinto Beans, Cheese, Sour Cream, Guacamole, Lettuce]]                                                                                                                 Chicken Bowl     1\n",
       "[Fresh Tomato Salsa, [Rice, Pinto Beans, Cheese, Sour Cream, Lettuce]]                                                                                                                            Chicken Bowl     3\n",
       "[Fresh Tomato Salsa, [Rice, Pinto Beans, Cheese]]                                                                                                                                                 Chicken Bowl     1\n",
       "[Fresh Tomato Salsa, [Rice, Pinto Beans, Sour Cream, Cheese, Lettuce, Guacamole]]                                                                                                                 Chicken Bowl     1\n",
       "[Fresh Tomato Salsa, [Rice, Pinto Beans, Sour Cream, Cheese, Lettuce]]                                                                                                                            Chicken Bowl     4\n",
       "[Fresh Tomato Salsa, [Rice, Sour Cream, Cheese, Lettuce]]                                                                                                                                         Chicken Bowl     1\n",
       "[Fresh Tomato Salsa, [Rice, Sour Cream, Guacamole]]                                                                                                                                               Chicken Bowl     1\n",
       "[Fresh Tomato Salsa, [Sour Cream, Cheese]]                                                                                                                                                        Chicken Bowl     1\n",
       "[Fresh Tomato Salsa, [Sour Cream, Fajita Vegetables, Rice, Guacamole, Cheese]]                                                                                                                    Chicken Bowl     2\n",
       "[Fresh Tomato Salsa, [Sour Cream, Guacamole, Lettuce]]                                                                                                                                            Chicken Bowl     2\n",
       "[Fresh Tomato Salsa, [Sour Cream, Lettuce, Rice, Cheese]]                                                                                                                                         Chicken Bowl     1\n",
       "[Fresh Tomato Salsa]                                                                                                                                                                              Chicken Bowl     3\n",
       "[Roasted Chili Corn Salsa (Medium), Cheese]                                                                                                                                                       Chicken Bowl     1\n",
       "[Roasted Chili Corn Salsa (Medium), [Black Beans, Fajita Veggies, Cheese, Guacamole, Lettuce]]                                                                                                    Chicken Bowl     1\n",
       "[Roasted Chili Corn Salsa (Medium), [Black Beans, Rice, Cheese, Guacamole, Lettuce]]                                                                                                              Chicken Bowl     1\n",
       "[Roasted Chili Corn Salsa (Medium), [Black Beans, Rice, Cheese, Sour Cream, Lettuce]]                                                                                                             Chicken Bowl     2\n",
       "[Roasted Chili Corn Salsa (Medium), [Black Beans, Rice, Fajita Veggies, Cheese, Sour Cream, Guacamole, Lettuce]]                                                                                  Chicken Bowl     1\n",
       "[Roasted Chili Corn Salsa (Medium), [Black Beans, Rice, Fajita Veggies, Cheese, Sour Cream]]                                                                                                      Chicken Bowl     3\n",
       "[Roasted Chili Corn Salsa (Medium), [Black Beans, Rice, Sour Cream, Guacamole]]                                                                                                                   Chicken Bowl     1\n",
       "[Roasted Chili Corn Salsa (Medium), [Pinto Beans, Black Beans, Rice, Cheese, Sour Cream, Guacamole]]                                                                                              Chicken Bowl     1\n",
       "[Roasted Chili Corn Salsa (Medium), [Pinto Beans, Black Beans, Rice, Fajita Veggies, Cheese, Lettuce]]                                                                                            Chicken Bowl     1\n",
       "[Roasted Chili Corn Salsa (Medium), [Pinto Beans, Rice, Cheese, Sour Cream, Lettuce]]                                                                                                             Chicken Bowl     1\n",
       "[Roasted Chili Corn Salsa (Medium), [Pinto Beans, Rice, Fajita Veggies, Cheese, Sour Cream, Lettuce]]                                                                                             Chicken Bowl     1\n",
       "[Roasted Chili Corn Salsa (Medium), [Rice, Cheese, Lettuce]]                                                                                                                                      Chicken Bowl     2\n",
       "[Roasted Chili Corn Salsa (Medium), [Rice, Cheese]]                                                                                                                                               Chicken Bowl     2\n",
       "[Roasted Chili Corn Salsa (Medium), [Rice, Fajita Veggies, Cheese, Sour Cream, Lettuce]]                                                                                                          Chicken Bowl     2\n",
       "[Roasted Chili Corn Salsa (Medium), [Rice, Fajita Veggies, Cheese]]                                                                                                                               Chicken Bowl     1\n",
       "[Roasted Chili Corn Salsa (Medium), [Rice, Fajita Veggies, Sour Cream]]                                                                                                                           Chicken Bowl     1\n",
       "[Roasted Chili Corn Salsa, [Black Beans, Cheese, Guacamole]]                                                                                                                                      Chicken Bowl     1\n",
       "[Roasted Chili Corn Salsa, [Black Beans, Sour Cream, Cheese, Guacamole]]                                                                                                                          Chicken Bowl     1\n",
       "[Roasted Chili Corn Salsa, [Cheese, Lettuce, Fajita Vegetables, Rice]]                                                                                                                            Chicken Bowl     1\n",
       "[Roasted Chili Corn Salsa, [Cheese, Lettuce]]                                                                                                                                                     Chicken Bowl     1\n",
       "[Roasted Chili Corn Salsa, [Fajita Vegetables, Black Beans, Guacamole]]                                                                                                                           Chicken Bowl     1\n",
       "[Roasted Chili Corn Salsa, [Fajita Vegetables, Black Beans, Pinto Beans, Cheese, Lettuce]]                                                                                                        Chicken Bowl     1\n",
       "[Roasted Chili Corn Salsa, [Fajita Vegetables, Cheese, Lettuce]]                                                                                                                                  Chicken Bowl     1\n",
       "[Roasted Chili Corn Salsa, [Fajita Vegetables, Lettuce, Black Beans]]                                                                                                                             Chicken Bowl     1\n",
       "[Roasted Chili Corn Salsa, [Fajita Vegetables, Pinto Beans, Sour Cream, Guacamole]]                                                                                                               Chicken Bowl     1\n",
       "[Roasted Chili Corn Salsa, [Fajita Vegetables, Rice, Black Beans, Cheese, Guacamole, Lettuce]]                                                                                                    Chicken Bowl     1\n",
       "[Roasted Chili Corn Salsa, [Fajita Vegetables, Rice, Black Beans, Cheese, Guacamole]]                                                                                                             Chicken Bowl     1\n",
       "[Roasted Chili Corn Salsa, [Fajita Vegetables, Rice, Black Beans, Cheese, Lettuce]]                                                                                                               Chicken Bowl     1\n",
       "[Roasted Chili Corn Salsa, [Fajita Vegetables, Rice, Black Beans, Cheese, Sour Cream, Guacamole, Lettuce]]                                                                                        Chicken Bowl     3\n",
       "[Roasted Chili Corn Salsa, [Fajita Vegetables, Rice, Black Beans, Cheese, Sour Cream]]                                                                                                            Chicken Bowl     1\n",
       "[Roasted Chili Corn Salsa, [Fajita Vegetables, Rice, Black Beans, Cheese]]                                                                                                                        Chicken Bowl     1\n",
       "[Roasted Chili Corn Salsa, [Fajita Vegetables, Rice, Black Beans, Guacamole, Lettuce]]                                                                                                            Chicken Bowl     1\n",
       "[Roasted Chili Corn Salsa, [Fajita Vegetables, Rice, Black Beans, Guacamole]]                                                                                                                     Chicken Bowl     2\n",
       "[Roasted Chili Corn Salsa, [Fajita Vegetables, Rice, Black Beans, Lettuce]]                                                                                                                       Chicken Bowl     1\n",
       "[Roasted Chili Corn Salsa, [Fajita Vegetables, Rice, Black Beans, Pinto Beans, Cheese, Guacamole, Lettuce]]                                                                                       Chicken Bowl     1\n",
       "[Roasted Chili Corn Salsa, [Fajita Vegetables, Rice, Black Beans, Pinto Beans, Cheese, Sour Cream, Guacamole, Lettuce]]                                                                           Chicken Bowl     1\n",
       "[Roasted Chili Corn Salsa, [Fajita Vegetables, Rice, Black Beans, Sour Cream, Lettuce]]                                                                                                           Chicken Bowl     1\n",
       "[Roasted Chili Corn Salsa, [Fajita Vegetables, Rice, Cheese, Sour Cream, Guacamole, Lettuce]]                                                                                                     Chicken Bowl     1\n",
       "[Roasted Chili Corn Salsa, [Fajita Vegetables, Rice, Cheese, Sour Cream, Lettuce]]                                                                                                                Chicken Bowl     3\n",
       "[Roasted Chili Corn Salsa, [Fajita Vegetables, Rice, Cheese, Sour Cream]]                                                                                                                         Chicken Bowl     1\n",
       "[Roasted Chili Corn Salsa, [Fajita Vegetables, Rice, Pinto Beans, Cheese, Guacamole, Lettuce]]                                                                                                    Chicken Bowl     1\n",
       "[Roasted Chili Corn Salsa, [Fajita Vegetables, Rice, Pinto Beans, Cheese, Lettuce]]                                                                                                               Chicken Bowl     1\n",
       "[Roasted Chili Corn Salsa, [Fajita Vegetables, Rice, Pinto Beans, Cheese, Sour Cream, Guacamole, Lettuce]]                                                                                        Chicken Bowl     1\n",
       "[Roasted Chili Corn Salsa, [Fajita Vegetables, Rice, Pinto Beans, Cheese, Sour Cream, Lettuce]]                                                                                                   Chicken Bowl     4\n",
       "[Roasted Chili Corn Salsa, [Fajita Vegetables, Rice, Sour Cream, Lettuce]]                                                                                                                        Chicken Bowl     1\n",
       "[Roasted Chili Corn Salsa, [Fajita Vegetables, Rice]]                                                                                                                                             Chicken Bowl     1\n",
       "[Roasted Chili Corn Salsa, [Rice, Black Beans, Cheese, Guacamole, Lettuce]]                                                                                                                       Chicken Bowl     1\n",
       "[Roasted Chili Corn Salsa, [Rice, Black Beans, Cheese, Guacamole]]                                                                                                                                Chicken Bowl     4\n",
       "[Roasted Chili Corn Salsa, [Rice, Black Beans, Cheese, Lettuce, Guacamole]]                                                                                                                       Chicken Bowl     2\n",
       "[Roasted Chili Corn Salsa, [Rice, Black Beans, Cheese, Lettuce]]                                                                                                                                  Chicken Bowl     1\n",
       "[Roasted Chili Corn Salsa, [Rice, Black Beans, Cheese, Sour Cream, Guacamole, Lettuce]]                                                                                                           Chicken Bowl     4\n",
       "[Roasted Chili Corn Salsa, [Rice, Black Beans, Cheese, Sour Cream, Guacamole]]                                                                                                                    Chicken Bowl     1\n",
       "[Roasted Chili Corn Salsa, [Rice, Black Beans, Cheese, Sour Cream, Lettuce]]                                                                                                                      Chicken Bowl    10\n",
       "[Roasted Chili Corn Salsa, [Rice, Black Beans, Cheese, Sour Cream]]                                                                                                                               Chicken Bowl     1\n",
       "[Roasted Chili Corn Salsa, [Rice, Black Beans, Cheese]]                                                                                                                                           Chicken Bowl     3\n",
       "[Roasted Chili Corn Salsa, [Rice, Black Beans, Guacamole, Lettuce]]                                                                                                                               Chicken Bowl     1\n",
       "[Roasted Chili Corn Salsa, [Rice, Black Beans, Guacamole]]                                                                                                                                        Chicken Bowl     2\n",
       "[Roasted Chili Corn Salsa, [Rice, Black Beans, Sour Cream, Cheese, Guacamole]]                                                                                                                    Chicken Bowl     7\n",
       "[Roasted Chili Corn Salsa, [Rice, Black Beans, Sour Cream, Cheese, Lettuce, Guacamole]]                                                                                                           Chicken Bowl     1\n",
       "[Roasted Chili Corn Salsa, [Rice, Black Beans, Sour Cream, Guacamole]]                                                                                                                            Chicken Bowl     3\n",
       "[Roasted Chili Corn Salsa, [Rice, Black Beans, Sour Cream]]                                                                                                                                       Chicken Bowl     1\n",
       "[Roasted Chili Corn Salsa, [Rice, Cheese, Lettuce]]                                                                                                                                               Chicken Bowl     3\n",
       "[Roasted Chili Corn Salsa, [Rice, Cheese, Sour Cream, Guacamole, Lettuce]]                                                                                                                        Chicken Bowl     1\n",
       "[Roasted Chili Corn Salsa, [Rice, Cheese, Sour Cream, Guacamole]]                                                                                                                                 Chicken Bowl     1\n",
       "[Roasted Chili Corn Salsa, [Rice, Cheese, Sour Cream, Lettuce]]                                                                                                                                   Chicken Bowl     2\n",
       "[Roasted Chili Corn Salsa, [Rice, Cheese]]                                                                                                                                                        Chicken Bowl     1\n",
       "[Roasted Chili Corn Salsa, [Rice, Fajita Vegetables, Black Beans, Sour Cream, Cheese, Lettuce]]                                                                                                   Chicken Bowl     2\n",
       "[Roasted Chili Corn Salsa, [Rice, Fajita Vegetables, Cheese, Lettuce]]                                                                                                                            Chicken Bowl     2\n",
       "[Roasted Chili Corn Salsa, [Rice, Fajita Vegetables, Lettuce, Pinto Beans, Black Beans, Guacamole, Cheese]]                                                                                       Chicken Bowl     1\n",
       "[Roasted Chili Corn Salsa, [Rice, Lettuce]]                                                                                                                                                       Chicken Bowl     1\n",
       "[Roasted Chili Corn Salsa, [Rice, Pinto Beans, Cheese, Sour Cream, Guacamole, Lettuce]]                                                                                                           Chicken Bowl     2\n",
       "[Roasted Chili Corn Salsa, [Rice, Pinto Beans, Cheese, Sour Cream, Guacamole]]                                                                                                                    Chicken Bowl     1\n",
       "[Roasted Chili Corn Salsa, [Rice, Pinto Beans, Cheese, Sour Cream, Lettuce]]                                                                                                                      Chicken Bowl     4\n",
       "[Roasted Chili Corn Salsa, [Rice, Pinto Beans, Lettuce, Guacamole]]                                                                                                                               Chicken Bowl     1\n",
       "[Roasted Chili Corn Salsa, [Rice, Pinto Beans, Sour Cream, Cheese, Guacamole]]                                                                                                                    Chicken Bowl     2\n",
       "[Tomatillo Green Chili Salsa, [Fajita Vegetables, Black Beans, Sour Cream, Lettuce]]                                                                                                              Chicken Bowl     1\n",
       "[Tomatillo Green Chili Salsa, [Fajita Vegetables, Rice, Black Beans, Cheese, Lettuce]]                                                                                                            Chicken Bowl     2\n",
       "[Tomatillo Green Chili Salsa, [Fajita Vegetables, Rice, Black Beans, Cheese, Sour Cream, Guacamole, Lettuce]]                                                                                     Chicken Bowl     1\n",
       "[Tomatillo Green Chili Salsa, [Fajita Vegetables, Rice, Black Beans, Cheese, Sour Cream, Lettuce]]                                                                                                Chicken Bowl     1\n",
       "[Tomatillo Green Chili Salsa, [Fajita Vegetables, Rice, Black Beans]]                                                                                                                             Chicken Bowl     1\n",
       "[Tomatillo Green Chili Salsa, [Fajita Vegetables, Rice, Cheese, Guacamole, Lettuce]]                                                                                                              Chicken Bowl     1\n",
       "[Tomatillo Green Chili Salsa, [Fajita Vegetables, Rice, Cheese, Lettuce]]                                                                                                                         Chicken Bowl     1\n",
       "[Tomatillo Green Chili Salsa, [Fajita Vegetables, Rice, Pinto Beans, Cheese, Guacamole, Lettuce]]                                                                                                 Chicken Bowl     1\n",
       "[Tomatillo Green Chili Salsa, [Fajita Vegetables, Rice, Pinto Beans, Cheese, Sour Cream, Lettuce]]                                                                                                Chicken Bowl     1\n",
       "[Tomatillo Green Chili Salsa, [Fajita Vegetables, Rice, Sour Cream, Guacamole]]                                                                                                                   Chicken Bowl     1\n",
       "[Tomatillo Green Chili Salsa, [Fajita Vegetables, Rice]]                                                                                                                                          Chicken Bowl     1\n",
       "[Tomatillo Green Chili Salsa, [Rice, Black Beans, Cheese, Guacamole]]                                                                                                                             Chicken Bowl     1\n",
       "[Tomatillo Green Chili Salsa, [Rice, Black Beans, Cheese, Lettuce]]                                                                                                                               Chicken Bowl     1\n",
       "[Tomatillo Green Chili Salsa, [Rice, Black Beans, Cheese, Sour Cream, Guacamole, Lettuce]]                                                                                                        Chicken Bowl     2\n",
       "[Tomatillo Green Chili Salsa, [Rice, Black Beans, Cheese, Sour Cream, Lettuce]]                                                                                                                   Chicken Bowl     1\n",
       "[Tomatillo Green Chili Salsa, [Rice, Black Beans, Cheese, Sour Cream]]                                                                                                                            Chicken Bowl     2\n",
       "[Tomatillo Green Chili Salsa, [Rice, Black Beans, Cheese]]                                                                                                                                        Chicken Bowl     3\n",
       "[Tomatillo Green Chili Salsa, [Rice, Black Beans, Guacamole, Lettuce]]                                                                                                                            Chicken Bowl     2\n",
       "[Tomatillo Green Chili Salsa, [Rice, Black Beans, Pinto Beans, Guacamole, Lettuce]]                                                                                                               Chicken Bowl     1\n",
       "[Tomatillo Green Chili Salsa, [Rice, Black Beans, Sour Cream, Cheese]]                                                                                                                            Chicken Bowl     2\n",
       "[Tomatillo Green Chili Salsa, [Rice, Black Beans, Sour Cream, Lettuce]]                                                                                                                           Chicken Bowl     3\n",
       "[Tomatillo Green Chili Salsa, [Rice, Black Beans]]                                                                                                                                                Chicken Bowl     1\n",
       "[Tomatillo Green Chili Salsa, [Rice, Cheese, Guacamole, Lettuce]]                                                                                                                                 Chicken Bowl     2\n",
       "[Tomatillo Green Chili Salsa, [Rice, Cheese, Guacamole]]                                                                                                                                          Chicken Bowl     1\n",
       "[Tomatillo Green Chili Salsa, [Rice, Cheese, Lettuce]]                                                                                                                                            Chicken Bowl     1\n",
       "[Tomatillo Green Chili Salsa, [Rice, Cheese, Sour Cream, Guacamole]]                                                                                                                              Chicken Bowl     1\n",
       "[Tomatillo Green Chili Salsa, [Rice, Cheese, Sour Cream, Lettuce]]                                                                                                                                Chicken Bowl     4\n",
       "[Tomatillo Green Chili Salsa, [Rice, Cheese]]                                                                                                                                                     Chicken Bowl     1\n",
       "[Tomatillo Green Chili Salsa, [Rice, Fajita Vegetables, Black Beans, Sour Cream, Cheese, Lettuce]]                                                                                                Chicken Bowl     2\n",
       "[Tomatillo Green Chili Salsa, [Rice, Pinto Beans, Cheese, Lettuce]]                                                                                                                               Chicken Bowl     1\n",
       "[Tomatillo Green Chili Salsa, [Rice, Pinto Beans, Cheese, Sour Cream, Lettuce]]                                                                                                                   Chicken Bowl     1\n",
       "[Tomatillo Green Chili Salsa, [Rice, Pinto Beans, Sour Cream, Lettuce]]                                                                                                                           Chicken Bowl    12\n",
       "[Tomatillo Green Chili Salsa, [Rice, Sour Cream, Cheese, Guacamole]]                                                                                                                              Chicken Bowl     4\n",
       "[Tomatillo Green Chili Salsa, [Rice, Sour Cream, Guacamole, Lettuce]]                                                                                                                             Chicken Bowl     1\n",
       "[Tomatillo Green Chili Salsa, [Rice, Sour Cream, Guacamole]]                                                                                                                                      Chicken Bowl     1\n",
       "[Tomatillo Green Chili Salsa, [Sour Cream, Cheese, Guacamole]]                                                                                                                                    Chicken Bowl     2\n",
       "[Tomatillo Red Chili Salsa, Fajita Vegetables]                                                                                                                                                    Chicken Bowl     1\n",
       "[Tomatillo Red Chili Salsa, Rice]                                                                                                                                                                 Chicken Bowl     1\n",
       "[Tomatillo Red Chili Salsa, [Black Beans, Cheese, Sour Cream]]                                                                                                                                    Chicken Bowl     1\n",
       "[Tomatillo Red Chili Salsa, [Fajita Vegetables, Black Beans, Sour Cream, Cheese, Lettuce]]                                                                                                        Chicken Bowl     1\n",
       "[Tomatillo Red Chili Salsa, [Fajita Vegetables, Rice, Black Beans, Cheese, Guacamole, Lettuce]]                                                                                                   Chicken Bowl     1\n",
       "[Tomatillo Red Chili Salsa, [Fajita Vegetables, Rice, Black Beans, Cheese, Lettuce]]                                                                                                              Chicken Bowl     1\n",
       "[Tomatillo Red Chili Salsa, [Fajita Vegetables, Rice, Black Beans, Cheese, Sour Cream, Guacamole, Lettuce]]                                                                                       Chicken Bowl     3\n",
       "[Tomatillo Red Chili Salsa, [Fajita Vegetables, Rice, Black Beans, Cheese, Sour Cream, Lettuce]]                                                                                                  Chicken Bowl     1\n",
       "[Tomatillo Red Chili Salsa, [Fajita Vegetables, Rice, Black Beans, Cheese, Sour Cream]]                                                                                                           Chicken Bowl     3\n",
       "[Tomatillo Red Chili Salsa, [Fajita Vegetables, Rice, Cheese, Guacamole]]                                                                                                                         Chicken Bowl     1\n",
       "[Tomatillo Red Chili Salsa, [Rice, Black Beans, Cheese, Guacamole]]                                                                                                                               Chicken Bowl     1\n",
       "[Tomatillo Red Chili Salsa, [Rice, Black Beans, Cheese, Lettuce, Guacamole]]                                                                                                                      Chicken Bowl     2\n",
       "[Tomatillo Red Chili Salsa, [Rice, Black Beans, Cheese, Lettuce]]                                                                                                                                 Chicken Bowl     1\n",
       "[Tomatillo Red Chili Salsa, [Rice, Black Beans, Cheese, Sour Cream, Guacamole, Lettuce]]                                                                                                          Chicken Bowl     5\n",
       "[Tomatillo Red Chili Salsa, [Rice, Black Beans, Cheese, Sour Cream, Lettuce]]                                                                                                                     Chicken Bowl     8\n",
       "[Tomatillo Red Chili Salsa, [Rice, Black Beans, Cheese, Sour Cream]]                                                                                                                              Chicken Bowl     1\n",
       "[Tomatillo Red Chili Salsa, [Rice, Black Beans, Pinto Beans, Cheese, Sour Cream, Lettuce]]                                                                                                        Chicken Bowl     2\n",
       "[Tomatillo Red Chili Salsa, [Rice, Black Beans, Pinto Beans, Cheese, Sour Cream]]                                                                                                                 Chicken Bowl     1\n",
       "[Tomatillo Red Chili Salsa, [Rice, Black Beans, Sour Cream, Cheese, Lettuce, Guacamole]]                                                                                                          Chicken Bowl     2\n",
       "[Tomatillo Red Chili Salsa, [Rice, Black Beans, Sour Cream, Cheese, Lettuce]]                                                                                                                     Chicken Bowl     6\n",
       "[Tomatillo Red Chili Salsa, [Rice, Black Beans, Sour Cream, Guacamole, Lettuce]]                                                                                                                  Chicken Bowl     1\n",
       "[Tomatillo Red Chili Salsa, [Rice, Black Beans]]                                                                                                                                                  Chicken Bowl     1\n",
       "[Tomatillo Red Chili Salsa, [Rice, Cheese, Lettuce]]                                                                                                                                              Chicken Bowl     3\n",
       "[Tomatillo Red Chili Salsa, [Rice, Cheese, Sour Cream, Guacamole]]                                                                                                                                Chicken Bowl     1\n",
       "[Tomatillo Red Chili Salsa, [Rice, Cheese, Sour Cream, Lettuce]]                                                                                                                                  Chicken Bowl     2\n",
       "[Tomatillo Red Chili Salsa, [Rice, Cheese]]                                                                                                                                                       Chicken Bowl     1\n",
       "[Tomatillo Red Chili Salsa, [Rice, Fajita Vegetables, Black Beans, Cheese, Lettuce, Guacamole]]                                                                                                   Chicken Bowl     1\n",
       "[Tomatillo Red Chili Salsa, [Rice, Fajita Vegetables, Black Beans, Sour Cream, Cheese]]                                                                                                           Chicken Bowl     1\n",
       "[Tomatillo Red Chili Salsa, [Rice, Fajita Vegetables, Sour Cream, Lettuce]]                                                                                                                       Chicken Bowl     1\n",
       "[Tomatillo Red Chili Salsa, [Rice, Pinto Beans, Cheese, Lettuce]]                                                                                                                                 Chicken Bowl     1\n",
       "[Tomatillo Red Chili Salsa, [Rice, Pinto Beans, Guacamole, Lettuce]]                                                                                                                              Chicken Bowl     1\n",
       "[Tomatillo Red Chili Salsa, [Rice, Sour Cream, Cheese, Guacamole]]                                                                                                                                Chicken Bowl     1\n",
       "[Tomatillo Red Chili Salsa, [Sour Cream, Cheese, Guacamole, Lettuce, Black Beans, Rice]]                                                                                                          Chicken Bowl     1\n",
       "[Tomatillo Red Chili Salsa]                                                                                                                                                                       Chicken Bowl     1\n",
       "[Tomatillo-Green Chili Salsa (Medium), Black Beans]                                                                                                                                               Chicken Bowl     1\n",
       "[Tomatillo-Green Chili Salsa (Medium), [Black Beans, Rice, Cheese, Sour Cream]]                                                                                                                   Chicken Bowl     1\n",
       "[Tomatillo-Green Chili Salsa (Medium), [Black Beans, Rice, Fajita Veggies, Cheese, Sour Cream, Guacamole, Lettuce]]                                                                               Chicken Bowl     1\n",
       "[Tomatillo-Green Chili Salsa (Medium), [Fajita Veggies, Cheese, Guacamole, Lettuce]]                                                                                                              Chicken Bowl     1\n",
       "[Tomatillo-Green Chili Salsa (Medium), [Pinto Beans, Black Beans, Rice, Fajita Veggies, Sour Cream, Lettuce]]                                                                                     Chicken Bowl     1\n",
       "[Tomatillo-Green Chili Salsa (Medium), [Pinto Beans, Rice, Fajita Veggies, Lettuce]]                                                                                                              Chicken Bowl     1\n",
       "[Tomatillo-Green Chili Salsa (Medium), [Rice, Cheese, Sour Cream, Lettuce]]                                                                                                                       Chicken Bowl     1\n",
       "[Tomatillo-Red Chili Salsa (Hot), Rice]                                                                                                                                                           Chicken Bowl     1\n",
       "[Tomatillo-Red Chili Salsa (Hot), [Black Beans, Cheese, Lettuce]]                                                                                                                                 Chicken Bowl     1\n",
       "[Tomatillo-Red Chili Salsa (Hot), [Black Beans, Rice, Cheese, Lettuce]]                                                                                                                           Chicken Bowl     9\n",
       "[Tomatillo-Red Chili Salsa (Hot), [Black Beans, Rice, Cheese, Sour Cream, Lettuce]]                                                                                                               Chicken Bowl     1\n",
       "[Tomatillo-Red Chili Salsa (Hot), [Black Beans, Rice, Cheese, Sour Cream]]                                                                                                                        Chicken Bowl     1\n",
       "[Tomatillo-Red Chili Salsa (Hot), [Black Beans, Rice, Fajita Veggies, Cheese, Lettuce]]                                                                                                           Chicken Bowl     1\n",
       "[Tomatillo-Red Chili Salsa (Hot), [Cheese, Lettuce, Rice, Black Beans]]                                                                                                                           Chicken Bowl     1\n",
       "[Tomatillo-Red Chili Salsa (Hot), [Cheese, Sour Cream, Fajita Veggies, Pinto Beans, Rice]]                                                                                                        Chicken Bowl     1\n",
       "[Tomatillo-Red Chili Salsa (Hot), [Pinto Beans, Black Beans, Rice, Fajita Veggies, Cheese, Sour Cream, Lettuce]]                                                                                  Chicken Bowl     1\n",
       "[Tomatillo-Red Chili Salsa (Hot), [Pinto Beans, Cheese, Sour Cream, Rice, Fajita Veggies, Guacamole]]                                                                                             Chicken Bowl     1\n",
       "[Tomatillo-Red Chili Salsa (Hot), [Pinto Beans, Rice, Cheese, Sour Cream, Guacamole]]                                                                                                             Chicken Bowl     1\n",
       "[Tomatillo-Red Chili Salsa (Hot), [Pinto Beans, Rice, Cheese, Sour Cream, Lettuce]]                                                                                                               Chicken Bowl     1\n",
       "[Tomatillo-Red Chili Salsa (Hot), [Pinto Beans, Rice, Fajita Veggies, Cheese, Sour Cream, Guacamole]]                                                                                             Chicken Bowl     3\n",
       "[Tomatillo-Red Chili Salsa (Hot), [Pinto Beans, Rice, Fajita Veggies, Cheese, Sour Cream, Lettuce]]                                                                                               Chicken Bowl     1\n",
       "[Tomatillo-Red Chili Salsa (Hot), [Pinto Beans, Rice, Fajita Veggies, Cheese, Sour Cream]]                                                                                                        Chicken Bowl     2\n",
       "[Tomatillo-Red Chili Salsa (Hot), [Rice, Black Beans, Cheese, Lettuce]]                                                                                                                           Chicken Bowl     2\n",
       "[Tomatillo-Red Chili Salsa (Hot), [Rice, Cheese, Sour Cream, Lettuce]]                                                                                                                            Chicken Bowl     3\n",
       "[Tomatillo-Red Chili Salsa (Hot), [Rice, Fajita Veggies, Cheese, Sour Cream, Lettuce]]                                                                                                            Chicken Bowl     2\n",
       "[Tomatillo-Red Chili Salsa (Hot), [Rice, Fajita Veggies, Pinto Beans, Sour Cream, Cheese, Guacamole]]                                                                                             Chicken Bowl     1\n",
       "[Tomatillo-Red Chili Salsa (Hot), [Rice, Fajita Veggies, Sour Cream, Lettuce]]                                                                                                                    Chicken Bowl     1\n",
       "[Tomatillo-Red Chili Salsa (Hot), [Rice, Pinto Beans, Fajita Veggies, Cheese, Sour Cream, Guacamole]]                                                                                             Chicken Bowl     1\n",
       "[Tomatillo-Red Chili Salsa (Hot), [Sour Cream, Cheese, Fajita Veggies, Guacamole, Rice, Pinto Beans]]                                                                                             Chicken Bowl     1\n",
       "[White Rice]                                                                                                                                                                                      Chicken Bowl     1\n",
       "[[Fresh Tomato Salsa (Mild), Roasted Chili Corn Salsa (Medium), Tomatillo-Red Chili Salsa (Hot)], [Black Beans, Rice, Cheese, Sour Cream]]                                                        Chicken Bowl     1\n",
       "[[Fresh Tomato Salsa (Mild), Roasted Chili Corn Salsa (Medium), Tomatillo-Red Chili Salsa (Hot)], [Black Beans, Rice, Fajita Veggies, Cheese, Sour Cream, Lettuce]]                               Chicken Bowl     1\n",
       "[[Fresh Tomato Salsa (Mild), Roasted Chili Corn Salsa (Medium), Tomatillo-Red Chili Salsa (Hot)], [Pinto Beans, Rice, Fajita Veggies, Cheese, Sour Cream, Lettuce]]                               Chicken Bowl     1\n",
       "[[Fresh Tomato Salsa (Mild), Roasted Chili Corn Salsa (Medium)], [Black Beans, Cheese, Guacamole]]                                                                                                Chicken Bowl     1\n",
       "[[Fresh Tomato Salsa (Mild), Roasted Chili Corn Salsa (Medium)], [Black Beans, Guacamole]]                                                                                                        Chicken Bowl     1\n",
       "[[Fresh Tomato Salsa (Mild), Roasted Chili Corn Salsa (Medium)], [Black Beans, Rice, Cheese, Sour Cream, Lettuce]]                                                                                Chicken Bowl     3\n",
       "[[Fresh Tomato Salsa (Mild), Roasted Chili Corn Salsa (Medium)], [Black Beans, Rice, Fajita Veggies, Cheese, Sour Cream, Guacamole, Lettuce]]                                                     Chicken Bowl     1\n",
       "[[Fresh Tomato Salsa (Mild), Roasted Chili Corn Salsa (Medium)], [Black Beans, Rice, Fajita Veggies, Cheese, Sour Cream, Lettuce]]                                                                Chicken Bowl     1\n",
       "[[Fresh Tomato Salsa (Mild), Roasted Chili Corn Salsa (Medium)], [Black Beans, Rice, Fajita Veggies, Lettuce]]                                                                                    Chicken Bowl     1\n",
       "[[Fresh Tomato Salsa (Mild), Roasted Chili Corn Salsa (Medium)], [Fajita Veggies, Rice]]                                                                                                          Chicken Bowl     1\n",
       "[[Fresh Tomato Salsa (Mild), Roasted Chili Corn Salsa (Medium)], [Rice, Cheese, Sour Cream, Guacamole, Lettuce]]                                                                                  Chicken Bowl     1\n",
       "[[Fresh Tomato Salsa (Mild), Roasted Chili Corn Salsa (Medium)], [Rice, Fajita Veggies]]                                                                                                          Chicken Bowl     4\n",
       "[[Fresh Tomato Salsa (Mild), Roasted Chili Corn Salsa (Medium)], [Rice, Sour Cream, Guacamole, Lettuce]]                                                                                          Chicken Bowl     1\n",
       "[[Fresh Tomato Salsa (Mild), Tomatillo-Green Chili Salsa (Medium), Roasted Chili Corn Salsa (Medium), Tomatillo-Red Chili Salsa (Hot)], [Black Beans, Rice, Fajita Veggies, Cheese, Sour Cream]]  Chicken Bowl     1\n",
       "[[Fresh Tomato Salsa (Mild), Tomatillo-Green Chili Salsa (Medium), Roasted Chili Corn Salsa (Medium)], [Black Beans, Rice, Fajita Veggies, Cheese, Guacamole, Lettuce]]                           Chicken Bowl     1\n",
       "[[Fresh Tomato Salsa (Mild), Tomatillo-Green Chili Salsa (Medium)], [Rice, Fajita Veggies, Cheese, Sour Cream, Lettuce]]                                                                          Chicken Bowl     2\n",
       "[[Fresh Tomato Salsa (Mild), Tomatillo-Red Chili Salsa (Hot)], [Black Beans, Rice, Cheese, Sour Cream, Guacamole]]                                                                                Chicken Bowl     3\n",
       "[[Fresh Tomato Salsa (Mild), Tomatillo-Red Chili Salsa (Hot)], [Black Beans, Rice, Cheese, Sour Cream]]                                                                                           Chicken Bowl     7\n",
       "[[Fresh Tomato Salsa (Mild), Tomatillo-Red Chili Salsa (Hot)], [Guacamole, Rice, Black Beans, Cheese, Sour Cream]]                                                                                Chicken Bowl     1\n",
       "[[Roasted Chili Corn Salsa (Medium), Fresh Tomato Salsa (Mild)], [Fajita Veggies, Lettuce, Rice, Black Beans]]                                                                                    Chicken Bowl     1\n",
       "[[Roasted Chili Corn Salsa (Medium), Fresh Tomato Salsa (Mild)], [Rice, Black Beans, Fajita Veggies, Cheese, Sour Cream, Guacamole]]                                                              Chicken Bowl     1\n",
       "[[Roasted Chili Corn Salsa (Medium), Fresh Tomato Salsa (Mild)], [Rice, Black Beans, Fajita Veggies, Guacamole]]                                                                                  Chicken Bowl     2\n",
       "[[Roasted Chili Corn Salsa (Medium), Fresh Tomato Salsa (Mild)], [Rice, Fajita Veggies]]                                                                                                          Chicken Bowl     5\n",
       "[[Roasted Chili Corn Salsa (Medium), Tomatillo-Green Chili Salsa (Medium)], [Rice, Fajita Veggies, Cheese, Sour Cream, Lettuce]]                                                                  Chicken Bowl     1\n",
       "[[Roasted Chili Corn Salsa (Medium), Tomatillo-Red Chili Salsa (Hot), Fresh Tomato Salsa (Mild), Tomatillo-Green Chili Salsa (Medium)], [Rice, Black Beans, Fajita Veggies, Cheese, Sour Cream]]  Chicken Bowl     1\n",
       "[[Roasted Chili Corn Salsa (Medium), Tomatillo-Red Chili Salsa (Hot), Fresh Tomato Salsa (Mild)], [Rice, Pinto Beans, Fajita Veggies, Cheese, Sour Cream, Lettuce]]                               Chicken Bowl     3\n",
       "[[Roasted Chili Corn Salsa (Medium), Tomatillo-Red Chili Salsa (Hot)], [Black Beans, Rice, Fajita Veggies, Guacamole, Lettuce]]                                                                   Chicken Bowl     2\n",
       "[[Roasted Chili Corn Salsa (Medium), Tomatillo-Red Chili Salsa (Hot)], [Pinto Beans, Rice, Fajita Veggies, Cheese, Lettuce]]                                                                      Chicken Bowl     1\n",
       "[[Roasted Chili Corn Salsa (Medium), Tomatillo-Red Chili Salsa (Hot)], [Pinto Beans, Rice, Fajita Veggies, Cheese]]                                                                               Chicken Bowl     1\n",
       "[[Roasted Chili Corn Salsa (Medium), Tomatillo-Red Chili Salsa (Hot)], [Pinto Beans, Rice, Fajita Veggies]]                                                                                       Chicken Bowl     1\n",
       "[[Tomatillo-Green Chili Salsa (Medium), Roasted Chili Corn Salsa (Medium)], [Black Beans, Rice, Cheese, Sour Cream, Lettuce]]                                                                     Chicken Bowl     1\n",
       "[[Tomatillo-Green Chili Salsa (Medium), Roasted Chili Corn Salsa (Medium)], [Black Beans, Rice, Fajita Veggies, Cheese, Sour Cream, Guacamole]]                                                   Chicken Bowl     1\n",
       "[[Tomatillo-Green Chili Salsa (Medium), Roasted Chili Corn Salsa (Medium)], [Black Beans, Rice, Fajita Veggies, Cheese, Sour Cream, Lettuce]]                                                     Chicken Bowl     1\n",
       "[[Tomatillo-Green Chili Salsa (Medium), Roasted Chili Corn Salsa (Medium)], [Rice, Fajita Veggies, Guacamole, Lettuce]]                                                                           Chicken Bowl     1\n",
       "[[Tomatillo-Green Chili Salsa (Medium), Tomatillo-Red Chili Salsa (Hot)], [Pinto Beans, Rice, Fajita Veggies, Cheese, Sour Cream, Guacamole]]                                                     Chicken Bowl     1\n",
       "[[Tomatillo-Red Chili Salsa (Hot), Tomatillo-Green Chili Salsa (Medium)], [Rice, Black Beans, Cheese, Lettuce]]                                                                                   Chicken Bowl     1\n",
       "[[Tomatillo-Red Chili Salsa (Hot), Tomatillo-Green Chili Salsa (Medium)], [Rice, Black Beans, Lettuce]]                                                                                           Chicken Bowl     1\n",
       "Name: item_name, dtype: int64"
      ]
     },
     "execution_count": 141,
     "metadata": {},
     "output_type": "execute_result"
    }
   ],
   "source": [
    "chipo[chipo['item_name']==\"Chicken Bowl\"].groupby('choice_description')['item_name'].value_counts()"
   ]
  },
  {
   "cell_type": "code",
   "execution_count": null,
   "id": "1e03fd63",
   "metadata": {},
   "outputs": [],
   "source": []
  },
  {
   "cell_type": "code",
   "execution_count": null,
   "id": "50b5531c",
   "metadata": {},
   "outputs": [],
   "source": [
    "## How many items were ordered in total? 4563"
   ]
  },
  {
   "cell_type": "code",
   "execution_count": 142,
   "id": "6f257f00",
   "metadata": {},
   "outputs": [
    {
     "data": {
      "text/plain": [
       "4563"
      ]
     },
     "execution_count": 142,
     "metadata": {},
     "output_type": "execute_result"
    }
   ],
   "source": [
    "chipo.order_id.count()"
   ]
  },
  {
   "cell_type": "code",
   "execution_count": null,
   "id": "e9c9c84d",
   "metadata": {},
   "outputs": [],
   "source": [
    "## How much was the revenue for the period in the dataset? 38914.11$"
   ]
  },
  {
   "cell_type": "code",
   "execution_count": 145,
   "id": "bce3798d",
   "metadata": {},
   "outputs": [
    {
     "data": {
      "text/html": [
       "<div>\n",
       "<style scoped>\n",
       "    .dataframe tbody tr th:only-of-type {\n",
       "        vertical-align: middle;\n",
       "    }\n",
       "\n",
       "    .dataframe tbody tr th {\n",
       "        vertical-align: top;\n",
       "    }\n",
       "\n",
       "    .dataframe thead th {\n",
       "        text-align: right;\n",
       "    }\n",
       "</style>\n",
       "<table border=\"1\" class=\"dataframe\">\n",
       "  <thead>\n",
       "    <tr style=\"text-align: right;\">\n",
       "      <th></th>\n",
       "      <th>order_id</th>\n",
       "      <th>quantity</th>\n",
       "      <th>item_name</th>\n",
       "      <th>choice_description</th>\n",
       "      <th>item_price</th>\n",
       "    </tr>\n",
       "  </thead>\n",
       "  <tbody>\n",
       "    <tr>\n",
       "      <th>2123</th>\n",
       "      <td>855</td>\n",
       "      <td>1</td>\n",
       "      <td>Veggie Bowl</td>\n",
       "      <td>[Roasted Chili Corn Salsa, [Rice, Black Beans,...</td>\n",
       "      <td>11.25</td>\n",
       "    </tr>\n",
       "    <tr>\n",
       "      <th>868</th>\n",
       "      <td>359</td>\n",
       "      <td>1</td>\n",
       "      <td>Chicken Bowl</td>\n",
       "      <td>[Tomatillo Green Chili Salsa, [Rice, Pinto Bea...</td>\n",
       "      <td>8.75</td>\n",
       "    </tr>\n",
       "    <tr>\n",
       "      <th>967</th>\n",
       "      <td>397</td>\n",
       "      <td>1</td>\n",
       "      <td>Steak Burrito</td>\n",
       "      <td>[Fresh Tomato Salsa, [Rice, Black Beans, Chees...</td>\n",
       "      <td>9.25</td>\n",
       "    </tr>\n",
       "    <tr>\n",
       "      <th>744</th>\n",
       "      <td>307</td>\n",
       "      <td>1</td>\n",
       "      <td>Chips and Guacamole</td>\n",
       "      <td>NaN</td>\n",
       "      <td>3.99</td>\n",
       "    </tr>\n",
       "    <tr>\n",
       "      <th>2295</th>\n",
       "      <td>922</td>\n",
       "      <td>1</td>\n",
       "      <td>Chicken Bowl</td>\n",
       "      <td>[Roasted Chili Corn Salsa, [Cheese, Lettuce, F...</td>\n",
       "      <td>8.75</td>\n",
       "    </tr>\n",
       "  </tbody>\n",
       "</table>\n",
       "</div>"
      ],
      "text/plain": [
       "      order_id  quantity            item_name  \\\n",
       "2123       855         1          Veggie Bowl   \n",
       "868        359         1         Chicken Bowl   \n",
       "967        397         1        Steak Burrito   \n",
       "744        307         1  Chips and Guacamole   \n",
       "2295       922         1         Chicken Bowl   \n",
       "\n",
       "                                     choice_description  item_price  \n",
       "2123  [Roasted Chili Corn Salsa, [Rice, Black Beans,...       11.25  \n",
       "868   [Tomatillo Green Chili Salsa, [Rice, Pinto Bea...        8.75  \n",
       "967   [Fresh Tomato Salsa, [Rice, Black Beans, Chees...        9.25  \n",
       "744                                                 NaN        3.99  \n",
       "2295  [Roasted Chili Corn Salsa, [Cheese, Lettuce, F...        8.75  "
      ]
     },
     "execution_count": 145,
     "metadata": {},
     "output_type": "execute_result"
    }
   ],
   "source": [
    "chipo.sample(5)"
   ]
  },
  {
   "cell_type": "code",
   "execution_count": 147,
   "id": "5728dff4",
   "metadata": {},
   "outputs": [],
   "source": [
    "chipo['revenue']=chipo['quantity']*chipo[\"item_price\"]"
   ]
  },
  {
   "cell_type": "code",
   "execution_count": 149,
   "id": "8f2bd14e",
   "metadata": {},
   "outputs": [
    {
     "data": {
      "text/html": [
       "<div>\n",
       "<style scoped>\n",
       "    .dataframe tbody tr th:only-of-type {\n",
       "        vertical-align: middle;\n",
       "    }\n",
       "\n",
       "    .dataframe tbody tr th {\n",
       "        vertical-align: top;\n",
       "    }\n",
       "\n",
       "    .dataframe thead th {\n",
       "        text-align: right;\n",
       "    }\n",
       "</style>\n",
       "<table border=\"1\" class=\"dataframe\">\n",
       "  <thead>\n",
       "    <tr style=\"text-align: right;\">\n",
       "      <th></th>\n",
       "      <th>order_id</th>\n",
       "      <th>quantity</th>\n",
       "      <th>item_name</th>\n",
       "      <th>choice_description</th>\n",
       "      <th>item_price</th>\n",
       "      <th>revenue</th>\n",
       "    </tr>\n",
       "  </thead>\n",
       "  <tbody>\n",
       "    <tr>\n",
       "      <th>3970</th>\n",
       "      <td>1591</td>\n",
       "      <td>2</td>\n",
       "      <td>Steak Burrito</td>\n",
       "      <td>[Fresh Tomato Salsa, [Lettuce, Sour Cream, Che...</td>\n",
       "      <td>18.50</td>\n",
       "      <td>37.00</td>\n",
       "    </tr>\n",
       "    <tr>\n",
       "      <th>1522</th>\n",
       "      <td>620</td>\n",
       "      <td>1</td>\n",
       "      <td>Chicken Burrito</td>\n",
       "      <td>[Tomatillo Red Chili Salsa, [Rice, Black Beans...</td>\n",
       "      <td>8.75</td>\n",
       "      <td>8.75</td>\n",
       "    </tr>\n",
       "    <tr>\n",
       "      <th>3168</th>\n",
       "      <td>1266</td>\n",
       "      <td>1</td>\n",
       "      <td>Chicken Burrito</td>\n",
       "      <td>[Tomatillo Red Chili Salsa, [Rice, Black Beans...</td>\n",
       "      <td>8.75</td>\n",
       "      <td>8.75</td>\n",
       "    </tr>\n",
       "    <tr>\n",
       "      <th>2493</th>\n",
       "      <td>990</td>\n",
       "      <td>1</td>\n",
       "      <td>Canned Soda</td>\n",
       "      <td>[Coca Cola]</td>\n",
       "      <td>1.09</td>\n",
       "      <td>1.09</td>\n",
       "    </tr>\n",
       "    <tr>\n",
       "      <th>2286</th>\n",
       "      <td>918</td>\n",
       "      <td>1</td>\n",
       "      <td>Chicken Burrito</td>\n",
       "      <td>[Fresh Tomato Salsa, Rice]</td>\n",
       "      <td>8.75</td>\n",
       "      <td>8.75</td>\n",
       "    </tr>\n",
       "  </tbody>\n",
       "</table>\n",
       "</div>"
      ],
      "text/plain": [
       "      order_id  quantity        item_name  \\\n",
       "3970      1591         2    Steak Burrito   \n",
       "1522       620         1  Chicken Burrito   \n",
       "3168      1266         1  Chicken Burrito   \n",
       "2493       990         1      Canned Soda   \n",
       "2286       918         1  Chicken Burrito   \n",
       "\n",
       "                                     choice_description  item_price  revenue  \n",
       "3970  [Fresh Tomato Salsa, [Lettuce, Sour Cream, Che...       18.50    37.00  \n",
       "1522  [Tomatillo Red Chili Salsa, [Rice, Black Beans...        8.75     8.75  \n",
       "3168  [Tomatillo Red Chili Salsa, [Rice, Black Beans...        8.75     8.75  \n",
       "2493                                        [Coca Cola]        1.09     1.09  \n",
       "2286                         [Fresh Tomato Salsa, Rice]        8.75     8.75  "
      ]
     },
     "execution_count": 149,
     "metadata": {},
     "output_type": "execute_result"
    }
   ],
   "source": [
    "chipo.sample(5)"
   ]
  },
  {
   "cell_type": "code",
   "execution_count": 150,
   "id": "a24faf07",
   "metadata": {},
   "outputs": [
    {
     "data": {
      "text/plain": [
       "38914.11"
      ]
     },
     "execution_count": 150,
     "metadata": {},
     "output_type": "execute_result"
    }
   ],
   "source": [
    "chipo.revenue.sum()"
   ]
  },
  {
   "cell_type": "code",
   "execution_count": null,
   "id": "40d8f903",
   "metadata": {},
   "outputs": [],
   "source": []
  },
  {
   "cell_type": "code",
   "execution_count": null,
   "id": "06cc4774",
   "metadata": {},
   "outputs": [],
   "source": [
    "## How many orders were made in the period? 4913"
   ]
  },
  {
   "cell_type": "code",
   "execution_count": 151,
   "id": "23729c81",
   "metadata": {},
   "outputs": [
    {
     "data": {
      "text/plain": [
       "4913"
      ]
     },
     "execution_count": 151,
     "metadata": {},
     "output_type": "execute_result"
    }
   ],
   "source": [
    "chipo.quantity.sum()"
   ]
  },
  {
   "cell_type": "code",
   "execution_count": 152,
   "id": "dd38047b",
   "metadata": {},
   "outputs": [],
   "source": [
    "## What is the average revenue amount per order?"
   ]
  },
  {
   "cell_type": "code",
   "execution_count": 153,
   "id": "30e8da22",
   "metadata": {},
   "outputs": [
    {
     "data": {
      "text/plain": [
       "item_name\n",
       "6 Pack Soft Drink                        6.85\n",
       "Barbacoa Bowl                           10.20\n",
       "Barbacoa Burrito                         9.84\n",
       "Barbacoa Crispy Tacos                   12.61\n",
       "Barbacoa Salad Bowl                     10.78\n",
       "Barbacoa Soft Tacos                     10.02\n",
       "Bottled Water                            4.12\n",
       "Bowl                                    37.00\n",
       "Burrito                                  7.40\n",
       "Canned Soda                              1.86\n",
       "Canned Soft Drink                        2.03\n",
       "Carnitas Bowl                           12.22\n",
       "Carnitas Burrito                        10.45\n",
       "Carnitas Crispy Tacos                   13.71\n",
       "Carnitas Salad                           8.99\n",
       "Carnitas Salad Bowl                     11.06\n",
       "Carnitas Soft Tacos                      9.40\n",
       "Chicken Bowl                            11.10\n",
       "Chicken Burrito                         11.58\n",
       "Chicken Crispy Tacos                    11.15\n",
       "Chicken Salad                            9.01\n",
       "Chicken Salad Bowl                      13.69\n",
       "Chicken Soft Tacos                      10.47\n",
       "Chips                                    2.76\n",
       "Chips and Fresh Tomato Salsa             9.40\n",
       "Chips and Guacamole                      5.18\n",
       "Chips and Mild Fresh Tomato Salsa        3.00\n",
       "Chips and Roasted Chili Corn Salsa       3.35\n",
       "Chips and Roasted Chili-Corn Salsa       2.39\n",
       "Chips and Tomatillo Green Chili Salsa    3.36\n",
       "Chips and Tomatillo Red Chili Salsa      3.33\n",
       "Chips and Tomatillo-Green Chili Salsa    2.85\n",
       "Chips and Tomatillo-Red Chili Salsa      4.78\n",
       "Crispy Tacos                             7.40\n",
       "Izze                                     3.39\n",
       "Nantucket Nectar                         4.14\n",
       "Salad                                    7.40\n",
       "Side of Chips                            2.88\n",
       "Steak Bowl                              11.76\n",
       "Steak Burrito                           11.52\n",
       "Steak Crispy Tacos                      10.72\n",
       "Steak Salad                              8.91\n",
       "Steak Salad Bowl                        13.49\n",
       "Steak Soft Tacos                        10.08\n",
       "Veggie Bowl                             10.61\n",
       "Veggie Burrito                          10.55\n",
       "Veggie Crispy Tacos                      8.49\n",
       "Veggie Salad                             8.49\n",
       "Veggie Salad Bowl                       10.14\n",
       "Veggie Soft Tacos                       12.99\n",
       "Name: revenue, dtype: float64"
      ]
     },
     "execution_count": 153,
     "metadata": {},
     "output_type": "execute_result"
    }
   ],
   "source": [
    "chipo.groupby(\"item_name\")['revenue'].mean()"
   ]
  },
  {
   "cell_type": "code",
   "execution_count": 155,
   "id": "754ed008",
   "metadata": {},
   "outputs": [],
   "source": [
    "## How many different items are sold?"
   ]
  },
  {
   "cell_type": "code",
   "execution_count": 164,
   "id": "c698fab6",
   "metadata": {},
   "outputs": [
    {
     "data": {
      "text/html": [
       "<div>\n",
       "<style scoped>\n",
       "    .dataframe tbody tr th:only-of-type {\n",
       "        vertical-align: middle;\n",
       "    }\n",
       "\n",
       "    .dataframe tbody tr th {\n",
       "        vertical-align: top;\n",
       "    }\n",
       "\n",
       "    .dataframe thead th {\n",
       "        text-align: right;\n",
       "    }\n",
       "</style>\n",
       "<table border=\"1\" class=\"dataframe\">\n",
       "  <thead>\n",
       "    <tr style=\"text-align: right;\">\n",
       "      <th></th>\n",
       "      <th>item_name</th>\n",
       "      <th>quantity</th>\n",
       "    </tr>\n",
       "  </thead>\n",
       "  <tbody>\n",
       "    <tr>\n",
       "      <th>0</th>\n",
       "      <td>6 Pack Soft Drink</td>\n",
       "      <td>55</td>\n",
       "    </tr>\n",
       "    <tr>\n",
       "      <th>1</th>\n",
       "      <td>Barbacoa Bowl</td>\n",
       "      <td>65</td>\n",
       "    </tr>\n",
       "    <tr>\n",
       "      <th>2</th>\n",
       "      <td>Barbacoa Burrito</td>\n",
       "      <td>90</td>\n",
       "    </tr>\n",
       "    <tr>\n",
       "      <th>3</th>\n",
       "      <td>Barbacoa Crispy Tacos</td>\n",
       "      <td>12</td>\n",
       "    </tr>\n",
       "    <tr>\n",
       "      <th>4</th>\n",
       "      <td>Barbacoa Salad Bowl</td>\n",
       "      <td>9</td>\n",
       "    </tr>\n",
       "    <tr>\n",
       "      <th>5</th>\n",
       "      <td>Barbacoa Soft Tacos</td>\n",
       "      <td>25</td>\n",
       "    </tr>\n",
       "    <tr>\n",
       "      <th>6</th>\n",
       "      <td>Bottled Water</td>\n",
       "      <td>204</td>\n",
       "    </tr>\n",
       "    <tr>\n",
       "      <th>7</th>\n",
       "      <td>Bowl</td>\n",
       "      <td>4</td>\n",
       "    </tr>\n",
       "    <tr>\n",
       "      <th>8</th>\n",
       "      <td>Burrito</td>\n",
       "      <td>6</td>\n",
       "    </tr>\n",
       "    <tr>\n",
       "      <th>9</th>\n",
       "      <td>Canned Soda</td>\n",
       "      <td>124</td>\n",
       "    </tr>\n",
       "    <tr>\n",
       "      <th>10</th>\n",
       "      <td>Canned Soft Drink</td>\n",
       "      <td>340</td>\n",
       "    </tr>\n",
       "    <tr>\n",
       "      <th>11</th>\n",
       "      <td>Carnitas Bowl</td>\n",
       "      <td>71</td>\n",
       "    </tr>\n",
       "    <tr>\n",
       "      <th>12</th>\n",
       "      <td>Carnitas Burrito</td>\n",
       "      <td>60</td>\n",
       "    </tr>\n",
       "    <tr>\n",
       "      <th>13</th>\n",
       "      <td>Carnitas Crispy Tacos</td>\n",
       "      <td>8</td>\n",
       "    </tr>\n",
       "    <tr>\n",
       "      <th>14</th>\n",
       "      <td>Carnitas Salad</td>\n",
       "      <td>1</td>\n",
       "    </tr>\n",
       "    <tr>\n",
       "      <th>15</th>\n",
       "      <td>Carnitas Salad Bowl</td>\n",
       "      <td>6</td>\n",
       "    </tr>\n",
       "    <tr>\n",
       "      <th>16</th>\n",
       "      <td>Carnitas Soft Tacos</td>\n",
       "      <td>40</td>\n",
       "    </tr>\n",
       "    <tr>\n",
       "      <th>17</th>\n",
       "      <td>Chicken Bowl</td>\n",
       "      <td>752</td>\n",
       "    </tr>\n",
       "    <tr>\n",
       "      <th>18</th>\n",
       "      <td>Chicken Burrito</td>\n",
       "      <td>584</td>\n",
       "    </tr>\n",
       "    <tr>\n",
       "      <th>19</th>\n",
       "      <td>Chicken Crispy Tacos</td>\n",
       "      <td>50</td>\n",
       "    </tr>\n",
       "    <tr>\n",
       "      <th>20</th>\n",
       "      <td>Chicken Salad</td>\n",
       "      <td>9</td>\n",
       "    </tr>\n",
       "    <tr>\n",
       "      <th>21</th>\n",
       "      <td>Chicken Salad Bowl</td>\n",
       "      <td>123</td>\n",
       "    </tr>\n",
       "    <tr>\n",
       "      <th>22</th>\n",
       "      <td>Chicken Soft Tacos</td>\n",
       "      <td>116</td>\n",
       "    </tr>\n",
       "    <tr>\n",
       "      <th>23</th>\n",
       "      <td>Chips</td>\n",
       "      <td>227</td>\n",
       "    </tr>\n",
       "    <tr>\n",
       "      <th>24</th>\n",
       "      <td>Chips and Fresh Tomato Salsa</td>\n",
       "      <td>130</td>\n",
       "    </tr>\n",
       "    <tr>\n",
       "      <th>25</th>\n",
       "      <td>Chips and Guacamole</td>\n",
       "      <td>501</td>\n",
       "    </tr>\n",
       "    <tr>\n",
       "      <th>26</th>\n",
       "      <td>Chips and Mild Fresh Tomato Salsa</td>\n",
       "      <td>1</td>\n",
       "    </tr>\n",
       "    <tr>\n",
       "      <th>27</th>\n",
       "      <td>Chips and Roasted Chili Corn Salsa</td>\n",
       "      <td>23</td>\n",
       "    </tr>\n",
       "    <tr>\n",
       "      <th>28</th>\n",
       "      <td>Chips and Roasted Chili-Corn Salsa</td>\n",
       "      <td>18</td>\n",
       "    </tr>\n",
       "    <tr>\n",
       "      <th>29</th>\n",
       "      <td>Chips and Tomatillo Green Chili Salsa</td>\n",
       "      <td>45</td>\n",
       "    </tr>\n",
       "    <tr>\n",
       "      <th>30</th>\n",
       "      <td>Chips and Tomatillo Red Chili Salsa</td>\n",
       "      <td>48</td>\n",
       "    </tr>\n",
       "    <tr>\n",
       "      <th>31</th>\n",
       "      <td>Chips and Tomatillo-Green Chili Salsa</td>\n",
       "      <td>33</td>\n",
       "    </tr>\n",
       "    <tr>\n",
       "      <th>32</th>\n",
       "      <td>Chips and Tomatillo-Red Chili Salsa</td>\n",
       "      <td>24</td>\n",
       "    </tr>\n",
       "    <tr>\n",
       "      <th>33</th>\n",
       "      <td>Crispy Tacos</td>\n",
       "      <td>2</td>\n",
       "    </tr>\n",
       "    <tr>\n",
       "      <th>34</th>\n",
       "      <td>Izze</td>\n",
       "      <td>19</td>\n",
       "    </tr>\n",
       "    <tr>\n",
       "      <th>35</th>\n",
       "      <td>Nantucket Nectar</td>\n",
       "      <td>29</td>\n",
       "    </tr>\n",
       "    <tr>\n",
       "      <th>36</th>\n",
       "      <td>Salad</td>\n",
       "      <td>2</td>\n",
       "    </tr>\n",
       "    <tr>\n",
       "      <th>37</th>\n",
       "      <td>Side of Chips</td>\n",
       "      <td>110</td>\n",
       "    </tr>\n",
       "    <tr>\n",
       "      <th>38</th>\n",
       "      <td>Steak Bowl</td>\n",
       "      <td>220</td>\n",
       "    </tr>\n",
       "    <tr>\n",
       "      <th>39</th>\n",
       "      <td>Steak Burrito</td>\n",
       "      <td>383</td>\n",
       "    </tr>\n",
       "    <tr>\n",
       "      <th>40</th>\n",
       "      <td>Steak Crispy Tacos</td>\n",
       "      <td>36</td>\n",
       "    </tr>\n",
       "    <tr>\n",
       "      <th>41</th>\n",
       "      <td>Steak Salad</td>\n",
       "      <td>4</td>\n",
       "    </tr>\n",
       "    <tr>\n",
       "      <th>42</th>\n",
       "      <td>Steak Salad Bowl</td>\n",
       "      <td>31</td>\n",
       "    </tr>\n",
       "    <tr>\n",
       "      <th>43</th>\n",
       "      <td>Steak Soft Tacos</td>\n",
       "      <td>56</td>\n",
       "    </tr>\n",
       "    <tr>\n",
       "      <th>44</th>\n",
       "      <td>Veggie Bowl</td>\n",
       "      <td>87</td>\n",
       "    </tr>\n",
       "    <tr>\n",
       "      <th>45</th>\n",
       "      <td>Veggie Burrito</td>\n",
       "      <td>97</td>\n",
       "    </tr>\n",
       "    <tr>\n",
       "      <th>46</th>\n",
       "      <td>Veggie Crispy Tacos</td>\n",
       "      <td>1</td>\n",
       "    </tr>\n",
       "    <tr>\n",
       "      <th>47</th>\n",
       "      <td>Veggie Salad</td>\n",
       "      <td>6</td>\n",
       "    </tr>\n",
       "    <tr>\n",
       "      <th>48</th>\n",
       "      <td>Veggie Salad Bowl</td>\n",
       "      <td>18</td>\n",
       "    </tr>\n",
       "    <tr>\n",
       "      <th>49</th>\n",
       "      <td>Veggie Soft Tacos</td>\n",
       "      <td>8</td>\n",
       "    </tr>\n",
       "  </tbody>\n",
       "</table>\n",
       "</div>"
      ],
      "text/plain": [
       "                                item_name  quantity\n",
       "0                       6 Pack Soft Drink        55\n",
       "1                           Barbacoa Bowl        65\n",
       "2                        Barbacoa Burrito        90\n",
       "3                   Barbacoa Crispy Tacos        12\n",
       "4                     Barbacoa Salad Bowl         9\n",
       "5                     Barbacoa Soft Tacos        25\n",
       "6                           Bottled Water       204\n",
       "7                                    Bowl         4\n",
       "8                                 Burrito         6\n",
       "9                             Canned Soda       124\n",
       "10                      Canned Soft Drink       340\n",
       "11                          Carnitas Bowl        71\n",
       "12                       Carnitas Burrito        60\n",
       "13                  Carnitas Crispy Tacos         8\n",
       "14                         Carnitas Salad         1\n",
       "15                    Carnitas Salad Bowl         6\n",
       "16                    Carnitas Soft Tacos        40\n",
       "17                           Chicken Bowl       752\n",
       "18                        Chicken Burrito       584\n",
       "19                   Chicken Crispy Tacos        50\n",
       "20                          Chicken Salad         9\n",
       "21                     Chicken Salad Bowl       123\n",
       "22                     Chicken Soft Tacos       116\n",
       "23                                  Chips       227\n",
       "24           Chips and Fresh Tomato Salsa       130\n",
       "25                    Chips and Guacamole       501\n",
       "26      Chips and Mild Fresh Tomato Salsa         1\n",
       "27     Chips and Roasted Chili Corn Salsa        23\n",
       "28     Chips and Roasted Chili-Corn Salsa        18\n",
       "29  Chips and Tomatillo Green Chili Salsa        45\n",
       "30    Chips and Tomatillo Red Chili Salsa        48\n",
       "31  Chips and Tomatillo-Green Chili Salsa        33\n",
       "32    Chips and Tomatillo-Red Chili Salsa        24\n",
       "33                           Crispy Tacos         2\n",
       "34                                   Izze        19\n",
       "35                       Nantucket Nectar        29\n",
       "36                                  Salad         2\n",
       "37                          Side of Chips       110\n",
       "38                             Steak Bowl       220\n",
       "39                          Steak Burrito       383\n",
       "40                     Steak Crispy Tacos        36\n",
       "41                            Steak Salad         4\n",
       "42                       Steak Salad Bowl        31\n",
       "43                       Steak Soft Tacos        56\n",
       "44                            Veggie Bowl        87\n",
       "45                         Veggie Burrito        97\n",
       "46                    Veggie Crispy Tacos         1\n",
       "47                           Veggie Salad         6\n",
       "48                      Veggie Salad Bowl        18\n",
       "49                      Veggie Soft Tacos         8"
      ]
     },
     "execution_count": 164,
     "metadata": {},
     "output_type": "execute_result"
    }
   ],
   "source": [
    "chipo.groupby(\"item_name\")['quantity'].sum().reset_index()"
   ]
  },
  {
   "cell_type": "code",
   "execution_count": null,
   "id": "dcdb568a",
   "metadata": {},
   "outputs": [],
   "source": []
  },
  {
   "cell_type": "code",
   "execution_count": null,
   "id": "3529748c",
   "metadata": {},
   "outputs": [],
   "source": []
  },
  {
   "cell_type": "code",
   "execution_count": null,
   "id": "d223c38e",
   "metadata": {},
   "outputs": [],
   "source": []
  }
 ],
 "metadata": {
  "kernelspec": {
   "display_name": "Python 3 (ipykernel)",
   "language": "python",
   "name": "python3"
  },
  "language_info": {
   "codemirror_mode": {
    "name": "ipython",
    "version": 3
   },
   "file_extension": ".py",
   "mimetype": "text/x-python",
   "name": "python",
   "nbconvert_exporter": "python",
   "pygments_lexer": "ipython3",
   "version": "3.10.9"
  }
 },
 "nbformat": 4,
 "nbformat_minor": 5
}
